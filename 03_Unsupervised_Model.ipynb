{
 "cells": [
  {
   "cell_type": "markdown",
   "id": "d3e046e5-2687-4f72-8a07-b71177e3f45f",
   "metadata": {},
   "source": [
    "# Part 3: An Unsupervised Model / Clustering"
   ]
  },
  {
   "cell_type": "markdown",
   "id": "9cc030b5-7614-4c5b-827e-89d7f9639a4c",
   "metadata": {},
   "source": [
    "### Import Libraries"
   ]
  },
  {
   "cell_type": "code",
   "execution_count": 36,
   "id": "2d367cca-e9da-40dc-8437-a66fa56ba716",
   "metadata": {},
   "outputs": [],
   "source": [
    "import pandas as pd\n",
    "import numpy as np\n",
    "import pickle\n",
    "import seaborn as sns\n",
    "import matplotlib.pyplot as plt\n",
    "from sklearn.preprocessing import StandardScaler\n",
    "from sklearn.cluster import KMeans, DBSCAN\n",
    "from sklearn.metrics import silhouette_score\n",
    "from sklearn.manifold import TSNE"
   ]
  },
  {
   "cell_type": "markdown",
   "id": "778eedfa-f92a-406f-b8bc-0fccc43b15ab",
   "metadata": {},
   "source": [
    "### Import the dataset"
   ]
  },
  {
   "cell_type": "code",
   "execution_count": 10,
   "id": "a1733aa9-237d-4d8b-bfde-900c630c2fe5",
   "metadata": {},
   "outputs": [],
   "source": [
    "with open('data/samples_imputed.pkl', 'rb') as f:\n",
    "    samples_imputed = pickle.load(f)"
   ]
  },
  {
   "cell_type": "markdown",
   "id": "abd54077-f868-4419-b9f0-2f435a021ac6",
   "metadata": {},
   "source": [
    "### Make a dataset of the 2% highest variance columns:"
   ]
  },
  {
   "cell_type": "code",
   "execution_count": 11,
   "id": "b3b2b91e-8533-4d8e-ba2c-8e5e3601aa8f",
   "metadata": {},
   "outputs": [],
   "source": [
    "samples_imputed = samples_imputed.transpose()\n",
    "samples_imputed.head()\n",
    "\n",
    "#create a variance column:\n",
    "samples_imputed['var'] = samples_imputed.var(axis = 1)"
   ]
  },
  {
   "cell_type": "code",
   "execution_count": 4,
   "id": "bc6bece8-b17f-4423-a4ad-99d1dd6a8065",
   "metadata": {},
   "outputs": [],
   "source": [
    "# # slicing the is_target row; append it later as the target column\n",
    "\n",
    "# is_cancer = samples_imputed.loc['is_cancer',:]"
   ]
  },
  {
   "cell_type": "code",
   "execution_count": 12,
   "id": "d6b0f9e1-dc3a-4935-9ace-d241b4bbcc8a",
   "metadata": {},
   "outputs": [
    {
     "data": {
      "text/html": [
       "<div>\n",
       "<style scoped>\n",
       "    .dataframe tbody tr th:only-of-type {\n",
       "        vertical-align: middle;\n",
       "    }\n",
       "\n",
       "    .dataframe tbody tr th {\n",
       "        vertical-align: top;\n",
       "    }\n",
       "\n",
       "    .dataframe thead th {\n",
       "        text-align: right;\n",
       "    }\n",
       "</style>\n",
       "<table border=\"1\" class=\"dataframe\">\n",
       "  <thead>\n",
       "    <tr style=\"text-align: right;\">\n",
       "      <th></th>\n",
       "      <th>0</th>\n",
       "      <th>1</th>\n",
       "      <th>2</th>\n",
       "      <th>3</th>\n",
       "      <th>4</th>\n",
       "      <th>5</th>\n",
       "      <th>6</th>\n",
       "      <th>7</th>\n",
       "      <th>8</th>\n",
       "      <th>9</th>\n",
       "      <th>...</th>\n",
       "      <th>725</th>\n",
       "      <th>726</th>\n",
       "      <th>727</th>\n",
       "      <th>728</th>\n",
       "      <th>729</th>\n",
       "      <th>730</th>\n",
       "      <th>731</th>\n",
       "      <th>732</th>\n",
       "      <th>733</th>\n",
       "      <th>var</th>\n",
       "    </tr>\n",
       "  </thead>\n",
       "  <tbody>\n",
       "    <tr>\n",
       "      <th>cg16620382</th>\n",
       "      <td>0.02</td>\n",
       "      <td>0.08</td>\n",
       "      <td>0.36</td>\n",
       "      <td>0.55</td>\n",
       "      <td>0.80</td>\n",
       "      <td>0.14</td>\n",
       "      <td>0.93</td>\n",
       "      <td>0.60</td>\n",
       "      <td>0.00</td>\n",
       "      <td>0.80</td>\n",
       "      <td>...</td>\n",
       "      <td>0.02</td>\n",
       "      <td>0.01</td>\n",
       "      <td>0.00</td>\n",
       "      <td>0.08</td>\n",
       "      <td>0.12</td>\n",
       "      <td>0.04</td>\n",
       "      <td>0.000</td>\n",
       "      <td>0.03</td>\n",
       "      <td>0.05</td>\n",
       "      <td>0.121854</td>\n",
       "    </tr>\n",
       "    <tr>\n",
       "      <th>cg11738485</th>\n",
       "      <td>0.01</td>\n",
       "      <td>0.00</td>\n",
       "      <td>0.80</td>\n",
       "      <td>0.65</td>\n",
       "      <td>0.87</td>\n",
       "      <td>0.99</td>\n",
       "      <td>0.03</td>\n",
       "      <td>0.61</td>\n",
       "      <td>0.91</td>\n",
       "      <td>0.98</td>\n",
       "      <td>...</td>\n",
       "      <td>0.60</td>\n",
       "      <td>0.60</td>\n",
       "      <td>0.59</td>\n",
       "      <td>0.03</td>\n",
       "      <td>0.01</td>\n",
       "      <td>0.61</td>\n",
       "      <td>0.590</td>\n",
       "      <td>0.57</td>\n",
       "      <td>0.02</td>\n",
       "      <td>0.119038</td>\n",
       "    </tr>\n",
       "    <tr>\n",
       "      <th>cg27363327</th>\n",
       "      <td>0.05</td>\n",
       "      <td>0.15</td>\n",
       "      <td>0.17</td>\n",
       "      <td>0.35</td>\n",
       "      <td>0.73</td>\n",
       "      <td>0.11</td>\n",
       "      <td>0.89</td>\n",
       "      <td>0.63</td>\n",
       "      <td>0.15</td>\n",
       "      <td>0.78</td>\n",
       "      <td>...</td>\n",
       "      <td>0.05</td>\n",
       "      <td>0.05</td>\n",
       "      <td>0.01</td>\n",
       "      <td>0.09</td>\n",
       "      <td>0.08</td>\n",
       "      <td>0.05</td>\n",
       "      <td>0.000</td>\n",
       "      <td>0.03</td>\n",
       "      <td>0.08</td>\n",
       "      <td>0.118166</td>\n",
       "    </tr>\n",
       "    <tr>\n",
       "      <th>cg11574174</th>\n",
       "      <td>0.12</td>\n",
       "      <td>0.86</td>\n",
       "      <td>0.59</td>\n",
       "      <td>0.00</td>\n",
       "      <td>0.84</td>\n",
       "      <td>0.20</td>\n",
       "      <td>0.00</td>\n",
       "      <td>0.83</td>\n",
       "      <td>0.16</td>\n",
       "      <td>0.78</td>\n",
       "      <td>...</td>\n",
       "      <td>0.86</td>\n",
       "      <td>0.74</td>\n",
       "      <td>0.77</td>\n",
       "      <td>0.65</td>\n",
       "      <td>0.80</td>\n",
       "      <td>0.00</td>\n",
       "      <td>0.730</td>\n",
       "      <td>0.05</td>\n",
       "      <td>0.33</td>\n",
       "      <td>0.117441</td>\n",
       "    </tr>\n",
       "    <tr>\n",
       "      <th>cg18391209</th>\n",
       "      <td>0.85</td>\n",
       "      <td>0.23</td>\n",
       "      <td>0.73</td>\n",
       "      <td>0.02</td>\n",
       "      <td>0.09</td>\n",
       "      <td>0.11</td>\n",
       "      <td>0.87</td>\n",
       "      <td>0.09</td>\n",
       "      <td>0.00</td>\n",
       "      <td>0.84</td>\n",
       "      <td>...</td>\n",
       "      <td>0.09</td>\n",
       "      <td>0.86</td>\n",
       "      <td>0.27</td>\n",
       "      <td>0.14</td>\n",
       "      <td>0.85</td>\n",
       "      <td>0.12</td>\n",
       "      <td>0.556</td>\n",
       "      <td>0.80</td>\n",
       "      <td>0.80</td>\n",
       "      <td>0.115076</td>\n",
       "    </tr>\n",
       "  </tbody>\n",
       "</table>\n",
       "<p>5 rows × 735 columns</p>\n",
       "</div>"
      ],
      "text/plain": [
       "               0     1     2     3     4     5     6     7     8     9  ...  \\\n",
       "cg16620382  0.02  0.08  0.36  0.55  0.80  0.14  0.93  0.60  0.00  0.80  ...   \n",
       "cg11738485  0.01  0.00  0.80  0.65  0.87  0.99  0.03  0.61  0.91  0.98  ...   \n",
       "cg27363327  0.05  0.15  0.17  0.35  0.73  0.11  0.89  0.63  0.15  0.78  ...   \n",
       "cg11574174  0.12  0.86  0.59  0.00  0.84  0.20  0.00  0.83  0.16  0.78  ...   \n",
       "cg18391209  0.85  0.23  0.73  0.02  0.09  0.11  0.87  0.09  0.00  0.84  ...   \n",
       "\n",
       "             725   726   727   728   729   730    731   732   733       var  \n",
       "cg16620382  0.02  0.01  0.00  0.08  0.12  0.04  0.000  0.03  0.05  0.121854  \n",
       "cg11738485  0.60  0.60  0.59  0.03  0.01  0.61  0.590  0.57  0.02  0.119038  \n",
       "cg27363327  0.05  0.05  0.01  0.09  0.08  0.05  0.000  0.03  0.08  0.118166  \n",
       "cg11574174  0.86  0.74  0.77  0.65  0.80  0.00  0.730  0.05  0.33  0.117441  \n",
       "cg18391209  0.09  0.86  0.27  0.14  0.85  0.12  0.556  0.80  0.80  0.115076  \n",
       "\n",
       "[5 rows x 735 columns]"
      ]
     },
     "execution_count": 12,
     "metadata": {},
     "output_type": "execute_result"
    }
   ],
   "source": [
    "# sort the table by the variance values os DNA sites\n",
    "samples_imputed.sort_values(by=['var'], ascending=False).head()"
   ]
  },
  {
   "cell_type": "code",
   "execution_count": 42,
   "id": "fa5f33ff-d257-44c3-8c99-16fc88d99e10",
   "metadata": {},
   "outputs": [
    {
     "data": {
      "text/plain": [
       "(734, 9000)"
      ]
     },
     "execution_count": 42,
     "metadata": {},
     "output_type": "execute_result"
    }
   ],
   "source": [
    "highest_variace_samples = samples_imputed.sort_values(by=['var'], ascending=False).head(9000).T\n",
    "\n",
    "# Drop the variance row:\n",
    "highest_variace_samples.drop(highest_variace_samples.tail(1).index, inplace=True)\n",
    "\n",
    "# check shape\n",
    "highest_variace_samples.shape"
   ]
  },
  {
   "cell_type": "code",
   "execution_count": 43,
   "id": "62b626f7-0e31-4bf3-8a3a-5e8490da0545",
   "metadata": {},
   "outputs": [
    {
     "data": {
      "text/plain": [
       "0      1.0\n",
       "1      1.0\n",
       "2      1.0\n",
       "3      1.0\n",
       "4      1.0\n",
       "      ... \n",
       "729    0.0\n",
       "730    0.0\n",
       "731    0.0\n",
       "732    0.0\n",
       "733    0.0\n",
       "Name: is_cancer, Length: 734, dtype: float32"
      ]
     },
     "execution_count": 43,
     "metadata": {},
     "output_type": "execute_result"
    }
   ],
   "source": [
    "# check target column\n",
    "highest_variace_samples['is_cancer']"
   ]
  },
  {
   "cell_type": "code",
   "execution_count": 44,
   "id": "79ff2ba7-ccb6-404b-b4bc-dcd826d749c4",
   "metadata": {},
   "outputs": [],
   "source": [
    "# pickle:\n",
    "with open('data/highest_variace_samples.pkl', 'wb') as f:\n",
    "    pickle.dump(highest_variace_samples, f)"
   ]
  },
  {
   "cell_type": "markdown",
   "id": "7cea2a24-b4ce-4afc-a22d-473333afba23",
   "metadata": {},
   "source": [
    "**The dataframe (highest_variance_samples) includes 9,000 DNA sites with the highest variance in methylation patterns.**"
   ]
  },
  {
   "cell_type": "markdown",
   "id": "83821dda-3100-475b-953e-3d379dc311f4",
   "metadata": {},
   "source": [
    "### Set Up X and y"
   ]
  },
  {
   "cell_type": "code",
   "execution_count": 28,
   "id": "df33c460-3872-46b1-a950-6613332baf6c",
   "metadata": {},
   "outputs": [],
   "source": [
    "with open('data/highest_variace_samples.pkl', 'rb') as f:\n",
    "    highest_variace_samples = pickle.load(f)"
   ]
  },
  {
   "cell_type": "code",
   "execution_count": 45,
   "id": "9b52fbaa-14af-4952-bcf0-3c0f8b26ad34",
   "metadata": {},
   "outputs": [
    {
     "data": {
      "text/plain": [
       "array([[-1.2288383 , -1.475894  , -1.0805773 , ..., -1.4446567 ,\n",
       "        -0.5609188 , -0.9151127 ],\n",
       "       [-1.0568384 , -1.5048976 , -0.7894725 , ...,  0.08855465,\n",
       "         1.964383  , -0.77982527],\n",
       "       [-0.25417233,  0.8153996 , -0.73125166, ..., -0.09182313,\n",
       "         0.07040671, -0.7347295 ],\n",
       "       ...,\n",
       "       [-1.2861716 ,  0.20632145, -1.2261295 , ...,  0.22383815,\n",
       "         1.7389096 , -0.8249211 ],\n",
       "       [-1.2001716 ,  0.14831406, -1.1387981 , ...,  0.8551605 ,\n",
       "         2.099667  , -0.77982527],\n",
       "       [-1.1428384 , -1.4468902 , -0.99324584, ...,  0.719877  ,\n",
       "        -0.651108  , -0.7347295 ]], dtype=float32)"
      ]
     },
     "execution_count": 45,
     "metadata": {},
     "output_type": "execute_result"
    }
   ],
   "source": [
    "X = highest_variace_samples.drop(columns=['is_cancer'])\n",
    "y = highest_variace_samples['is_cancer']\n",
    "\n",
    "# Scale\n",
    "X_sc = StandardScaler().fit_transform(X)\n",
    "X_sc"
   ]
  },
  {
   "cell_type": "markdown",
   "id": "a2ae0232-041a-440f-82f4-e99488ec6b64",
   "metadata": {},
   "source": [
    "### 1. KNN\n",
    "Clustering the samples with kmeans"
   ]
  },
  {
   "cell_type": "code",
   "execution_count": 13,
   "id": "68fc1ed8-1a35-45cf-8f2b-12fbb52f63e5",
   "metadata": {},
   "outputs": [
    {
     "data": {
      "text/plain": [
       "{0, 1, 2, 3, 4, 5, 6, 7}"
      ]
     },
     "execution_count": 13,
     "metadata": {},
     "output_type": "execute_result"
    }
   ],
   "source": [
    "# instantiate the model with the default settings:\n",
    "kmeans = KMeans()\n",
    "kmeans.fit(X_sc)\n",
    "\n",
    "# see how many clusters there are:\n",
    "set(kmeans.labels_)"
   ]
  },
  {
   "cell_type": "code",
   "execution_count": 61,
   "id": "5c04e68e-0627-481d-b055-cbbbb9be55aa",
   "metadata": {},
   "outputs": [],
   "source": [
    "# Try other k values:\n",
    "kmeans_sil = []\n",
    "\n",
    "for k in range(2,15):\n",
    "    kmeans = KMeans(n_clusters=k, random_state=123)\n",
    "    kmeans.fit(X_sc)\n",
    "    kmeans_sil.append(silhouette_score(X_sc, kmeans.labels_))\n"
   ]
  },
  {
   "cell_type": "markdown",
   "id": "a05eba72-435d-4b27-8d34-fc754038a1a2",
   "metadata": {},
   "source": [
    "#### An elbow plot of the silouette score:"
   ]
  },
  {
   "cell_type": "code",
   "execution_count": 62,
   "id": "bfaf67dc-c18d-4587-9be8-7b14eab33c04",
   "metadata": {},
   "outputs": [
    {
     "data": {
      "text/plain": [
       "<AxesSubplot:>"
      ]
     },
     "execution_count": 62,
     "metadata": {},
     "output_type": "execute_result"
    },
    {
     "data": {
      "image/png": "[encoded data removed]",
      "text/plain": [
       "<Figure size 432x288 with 1 Axes>"
      ]
     },
     "metadata": {
      "needs_background": "light"
     },
     "output_type": "display_data"
    }
   ],
   "source": [
    "sns.lineplot(x=range(2,15), y=kmeans_sil)"
   ]
  },
  {
   "cell_type": "markdown",
   "id": "72c64fac-3902-4f5c-91fb-faba3e1975a4",
   "metadata": {},
   "source": [
    "As seen at the plot, the optimal number of clusters (k) is **2**."
   ]
  },
  {
   "cell_type": "code",
   "execution_count": 87,
   "id": "10072c0d-1e8c-4ba3-9d13-bc85522c1b59",
   "metadata": {},
   "outputs": [
    {
     "data": {
      "text/html": [
       "<div>\n",
       "<style scoped>\n",
       "    .dataframe tbody tr th:only-of-type {\n",
       "        vertical-align: middle;\n",
       "    }\n",
       "\n",
       "    .dataframe tbody tr th {\n",
       "        vertical-align: top;\n",
       "    }\n",
       "\n",
       "    .dataframe thead th {\n",
       "        text-align: right;\n",
       "    }\n",
       "</style>\n",
       "<table border=\"1\" class=\"dataframe\">\n",
       "  <thead>\n",
       "    <tr style=\"text-align: right;\">\n",
       "      <th></th>\n",
       "      <th>cg16620382</th>\n",
       "      <th>cg11738485</th>\n",
       "      <th>cg27363327</th>\n",
       "      <th>cg11574174</th>\n",
       "      <th>cg18391209</th>\n",
       "      <th>cg27260772</th>\n",
       "      <th>cg01893212</th>\n",
       "      <th>cg27493151</th>\n",
       "      <th>cg17882374</th>\n",
       "      <th>cg11426075</th>\n",
       "      <th>...</th>\n",
       "      <th>cg12193833</th>\n",
       "      <th>cg01024175</th>\n",
       "      <th>cg24440302</th>\n",
       "      <th>cg04569429</th>\n",
       "      <th>cg03032214</th>\n",
       "      <th>cg06048354</th>\n",
       "      <th>cg14511923</th>\n",
       "      <th>cg01806382</th>\n",
       "      <th>cg13557668</th>\n",
       "      <th>kmeans_labels</th>\n",
       "    </tr>\n",
       "  </thead>\n",
       "  <tbody>\n",
       "    <tr>\n",
       "      <th>0</th>\n",
       "      <td>0.02</td>\n",
       "      <td>0.01</td>\n",
       "      <td>0.05</td>\n",
       "      <td>0.12</td>\n",
       "      <td>0.85</td>\n",
       "      <td>0.71</td>\n",
       "      <td>0.03</td>\n",
       "      <td>0.10</td>\n",
       "      <td>0.16</td>\n",
       "      <td>0.360</td>\n",
       "      <td>...</td>\n",
       "      <td>0.53</td>\n",
       "      <td>0.32</td>\n",
       "      <td>0.04</td>\n",
       "      <td>0.25</td>\n",
       "      <td>0.09</td>\n",
       "      <td>0.19</td>\n",
       "      <td>0.17</td>\n",
       "      <td>0.32</td>\n",
       "      <td>0.02</td>\n",
       "      <td>1</td>\n",
       "    </tr>\n",
       "    <tr>\n",
       "      <th>1</th>\n",
       "      <td>0.08</td>\n",
       "      <td>0.00</td>\n",
       "      <td>0.15</td>\n",
       "      <td>0.86</td>\n",
       "      <td>0.23</td>\n",
       "      <td>0.60</td>\n",
       "      <td>0.71</td>\n",
       "      <td>0.88</td>\n",
       "      <td>0.98</td>\n",
       "      <td>0.310</td>\n",
       "      <td>...</td>\n",
       "      <td>0.45</td>\n",
       "      <td>0.73</td>\n",
       "      <td>0.51</td>\n",
       "      <td>0.72</td>\n",
       "      <td>0.34</td>\n",
       "      <td>0.76</td>\n",
       "      <td>0.51</td>\n",
       "      <td>0.88</td>\n",
       "      <td>0.05</td>\n",
       "      <td>0</td>\n",
       "    </tr>\n",
       "    <tr>\n",
       "      <th>2</th>\n",
       "      <td>0.36</td>\n",
       "      <td>0.80</td>\n",
       "      <td>0.17</td>\n",
       "      <td>0.59</td>\n",
       "      <td>0.73</td>\n",
       "      <td>0.88</td>\n",
       "      <td>0.04</td>\n",
       "      <td>0.87</td>\n",
       "      <td>0.98</td>\n",
       "      <td>0.298</td>\n",
       "      <td>...</td>\n",
       "      <td>0.77</td>\n",
       "      <td>0.59</td>\n",
       "      <td>0.48</td>\n",
       "      <td>0.42</td>\n",
       "      <td>0.12</td>\n",
       "      <td>0.64</td>\n",
       "      <td>0.47</td>\n",
       "      <td>0.46</td>\n",
       "      <td>0.06</td>\n",
       "      <td>1</td>\n",
       "    </tr>\n",
       "  </tbody>\n",
       "</table>\n",
       "<p>3 rows × 9000 columns</p>\n",
       "</div>"
      ],
      "text/plain": [
       "   cg16620382  cg11738485  cg27363327  cg11574174  cg18391209  cg27260772  \\\n",
       "0        0.02        0.01        0.05        0.12        0.85        0.71   \n",
       "1        0.08        0.00        0.15        0.86        0.23        0.60   \n",
       "2        0.36        0.80        0.17        0.59        0.73        0.88   \n",
       "\n",
       "   cg01893212  cg27493151  cg17882374  cg11426075  ...  cg12193833  \\\n",
       "0        0.03        0.10        0.16       0.360  ...        0.53   \n",
       "1        0.71        0.88        0.98       0.310  ...        0.45   \n",
       "2        0.04        0.87        0.98       0.298  ...        0.77   \n",
       "\n",
       "   cg01024175  cg24440302  cg04569429  cg03032214  cg06048354  cg14511923  \\\n",
       "0        0.32        0.04        0.25        0.09        0.19        0.17   \n",
       "1        0.73        0.51        0.72        0.34        0.76        0.51   \n",
       "2        0.59        0.48        0.42        0.12        0.64        0.47   \n",
       "\n",
       "   cg01806382  cg13557668  kmeans_labels  \n",
       "0        0.32        0.02              1  \n",
       "1        0.88        0.05              0  \n",
       "2        0.46        0.06              1  \n",
       "\n",
       "[3 rows x 9000 columns]"
      ]
     },
     "execution_count": 87,
     "metadata": {},
     "output_type": "execute_result"
    }
   ],
   "source": [
    "# make a new df with the kmeans labels column:\n",
    "\n",
    "# instantiate a new kmean model with k = 2\n",
    "kmeans2 = KMeans(n_clusters=2)\n",
    "kmeans2.fit(X_sc)\n",
    "\n",
    "# copying the original df\n",
    "highest_var_kmeans = X.copy()\n",
    "\n",
    "# add labels column\n",
    "highest_var_kmeans['kmeans_labels'] = kmeans2.labels_\n",
    "highest_var_kmeans.head(3)"
   ]
  },
  {
   "cell_type": "code",
   "execution_count": 88,
   "id": "b592940f-6cd7-4d7f-a98d-03991a7be72f",
   "metadata": {},
   "outputs": [
    {
     "data": {
      "text/plain": [
       "0    403\n",
       "1    332\n",
       "Name: kmeans_labels, dtype: int64"
      ]
     },
     "execution_count": 88,
     "metadata": {},
     "output_type": "execute_result"
    }
   ],
   "source": [
    "highest_var_kmeans['kmeans_labels'].value_counts()"
   ]
  },
  {
   "cell_type": "markdown",
   "id": "b7ae3aa7-a017-411b-99b9-e62ea1e72163",
   "metadata": {},
   "source": [
    "- As the dataset is imbalanced, I expected the clustering model output to be the same (approximately 1:6.7). KNN did not cluster as expected. "
   ]
  },
  {
   "cell_type": "markdown",
   "id": "b2f97b5f-fd37-46a1-9d75-038f2e5cba94",
   "metadata": {},
   "source": [
    "## 2. tSNE"
   ]
  },
  {
   "cell_type": "code",
   "execution_count": 46,
   "id": "975147dc-78fb-4700-bdfc-68ba1a96af76",
   "metadata": {},
   "outputs": [
    {
     "data": {
      "text/plain": [
       "(734, 2)"
      ]
     },
     "execution_count": 46,
     "metadata": {},
     "output_type": "execute_result"
    }
   ],
   "source": [
    "# Apply tSNE model\n",
    "X_embedded = TSNE(n_components=2, learning_rate='auto',\n",
    "                  init='random').fit_transform(X)\n",
    "X_embedded.shape"
   ]
  },
  {
   "cell_type": "code",
   "execution_count": 91,
   "id": "ad4ce28a-861b-4bc4-9a41-bdf25d87bfdd",
   "metadata": {},
   "outputs": [
    {
     "name": "stderr",
     "output_type": "stream",
     "text": [
      "C:\\Users\\Marva\\anaconda3\\lib\\site-packages\\seaborn\\_decorators.py:36: FutureWarning: Pass the following variables as keyword args: x, y. From version 0.12, the only valid positional argument will be `data`, and passing other arguments without an explicit keyword will result in an error or misinterpretation.\n",
      "  warnings.warn(\n"
     ]
    },
    {
     "data": {
      "image/png": "[encoded data removed]",
      "text/plain": [
       "<Figure size 648x432 with 1 Axes>"
      ]
     },
     "metadata": {
      "needs_background": "light"
     },
     "output_type": "display_data"
    }
   ],
   "source": [
    "plt.figure(figsize=(9,6))\n",
    "sns.scatterplot(X_embedded[:,0], X_embedded[:,1], hue=y, palette='Set2')\n",
    "plt.title('Based on the 2% of DNA sites with the greatest variance in methylation signatures')\n",
    "plt.suptitle('Tissue Samples Distribution Visualized with tSNE', fontsize = 16)\n",
    "plt.legend(title='Class', loc='upper right', labels=['Malignant', 'Benign'])\n",
    "plt.savefig(\"images/tSNE.png\") "
   ]
  }
 ],
 "metadata": {
  "kernelspec": {
   "display_name": "Python 3 (ipykernel)",
   "language": "python",
   "name": "python3"
  },
  "language_info": {
   "codemirror_mode": {
    "name": "ipython",
    "version": 3
   },
   "file_extension": ".py",
   "mimetype": "text/x-python",
   "name": "python",
   "nbconvert_exporter": "python",
   "pygments_lexer": "ipython3",
   "version": "3.9.7"
  }
 },
 "nbformat": 4,
 "nbformat_minor": 5
}
