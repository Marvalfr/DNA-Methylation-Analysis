{
 "cells": [
  {
   "cell_type": "markdown",
   "id": "293475cb-91e3-4820-bbb1-f76d7df6ae05",
   "metadata": {},
   "source": [
    "## Plotting Random Forests and Extra Tree Models"
   ]
  },
  {
   "cell_type": "code",
   "execution_count": 3,
   "id": "8015d400-ce98-40ff-9a24-87988c5954b2",
   "metadata": {},
   "outputs": [],
   "source": [
    "import os\n",
    "import os.path as op\n",
    "import pandas as pd\n",
    "import matplotlib.pyplot as plt\n",
    "import pickle\n",
    "\n",
    "from sklearn.preprocessing import StandardScaler\n",
    "from sklearn.impute import SimpleImputer\n",
    "from sklearn.linear_model import LogisticRegression\n",
    "from sklearn.tree import DecisionTreeRegressor, plot_tree\n",
    "from sklearn.ensemble import RandomForestClassifier, ExtraTreesClassifier\n",
    "from sklearn.model_selection import cross_val_score, train_test_split, GridSearchCV\n",
    "from sklearn.metrics import mean_squared_error, accuracy_score\n",
    "from sklearn.pipeline import Pipeline, make_pipeline\n",
    "\n",
    "from sklearn.datasets import make_classification\n",
    "from sklearn.experimental import enable_halving_search_cv \n",
    "from sklearn.model_selection import HalvingGridSearchCV\n",
    "\n",
    "from dtreeviz.trees import dtreeviz\n",
    "import graphviz"
   ]
  },
  {
   "cell_type": "code",
   "execution_count": 5,
   "id": "1cb5f489-dc76-4882-bca9-d0f8529c6c21",
   "metadata": {},
   "outputs": [],
   "source": [
    "# main resources for the visualizations in this notebook:\n",
    "\n",
    "# https://towardsdatascience.com/4-ways-to-visualize-individual-decision-trees-in-a-random-forest-7a9beda1d1b7\n",
    "# https://github.com/parrt/dtreeviz"
   ]
  },
  {
   "cell_type": "markdown",
   "id": "07d77bc9-edc7-4943-9df7-223cf6dd3800",
   "metadata": {},
   "source": [
    "### Load the pickled models"
   ]
  },
  {
   "cell_type": "code",
   "execution_count": 7,
   "id": "6c18125f-ccae-4540-aecf-648d91a08dce",
   "metadata": {},
   "outputs": [],
   "source": [
    "with open('models/et_class_model.pkl', 'rb') as f:\n",
    "    et = pickle.load(f)"
   ]
  },
  {
   "cell_type": "code",
   "execution_count": 8,
   "id": "5552a5b4-6aab-4a9f-8bcb-5a239d2e67c0",
   "metadata": {},
   "outputs": [],
   "source": [
    "with open('models/rf2_class_model.pkl', 'rb') as f:\n",
    "    rf = pickle.load(f)"
   ]
  },
  {
   "cell_type": "code",
   "execution_count": null,
   "id": "459b1ed7-f963-406e-bda4-e9b92da7bc6d",
   "metadata": {},
   "outputs": [],
   "source": [
    "#headline"
   ]
  },
  {
   "cell_type": "code",
   "execution_count": null,
   "id": "d0df8f7c-5c38-4da7-882d-bff34e57fea3",
   "metadata": {},
   "outputs": [],
   "source": [
    "# Plotting one of the decision tree of the random forest model\n",
    "# using graphviz\n",
    "viz = dtreeviz(rf,  #.estimators_[99],\n",
    "               X_train, \n",
    "               y_train,\n",
    "               target_name=\"Class\",\n",
    "               feature_names=list(X.columns),\n",
    "               class_names=['Normal', 'Cancer'],\n",
    "               title=\"Random Forest Classifier\",\n",
    ")\n",
    "​\n",
    "viz"
   ]
  },
  {
   "cell_type": "code",
   "execution_count": null,
   "id": "6a5ea518-4801-479a-bc19-423c3ebaf1b4",
   "metadata": {},
   "outputs": [],
   "source": []
  },
  {
   "cell_type": "code",
   "execution_count": null,
   "id": "2d34e39e-600a-4628-820d-1c260d00c31f",
   "metadata": {},
   "outputs": [],
   "source": [
    "# Plotting one of the decision tree of the extra tree model\n",
    "# using graphviz:\n",
    "viz_et = dtreeviz(et.estimators_[199],\n",
    "               X_train, \n",
    "               y_train,\n",
    "               target_name=\"Class\",\n",
    "               feature_names=list(X.columns),\n",
    "               class_names=['Benigh', 'Malignant'],\n",
    "               title=\"Extra Tree Classifier (balanced)\"\n",
    "\n",
    ")\n",
    "\n",
    "\n",
    "viz_et"
   ]
  },
  {
   "cell_type": "code",
   "execution_count": null,
   "id": "43ceafa0-1050-4624-ad04-96a4f1b4f4fa",
   "metadata": {},
   "outputs": [],
   "source": []
  },
  {
   "cell_type": "code",
   "execution_count": null,
   "id": "bc001681-cdad-4a47-82a4-ff3cc3fa745f",
   "metadata": {},
   "outputs": [],
   "source": []
  },
  {
   "cell_type": "code",
   "execution_count": null,
   "id": "fb029b34-d168-4c08-a7bc-3dd560ab248b",
   "metadata": {},
   "outputs": [],
   "source": [
    "# from dtreeviz.classifiers import clfviz\n",
    "\n",
    "# clfviz(rf.estimators_[99], \n",
    "#        X_train.values, \n",
    "#        y_train, \n",
    "#        #feature_names=['cg19897071'], \n",
    "#        target_name='Tissue Class')"
   ]
  },
  {
   "cell_type": "code",
   "execution_count": null,
   "id": "cfc57413-8a84-46c2-a3e1-12c76bb748b6",
   "metadata": {},
   "outputs": [],
   "source": [
    "# X = all_samples[['cg19897071', 'cg22188918']]\n",
    "# y = all_samples['is_cancer']\n",
    "\n",
    "# rf = RandomForestClassifier(n_estimators=30, min_samples_leaf=5, n_jobs=-1)\n",
    "# rf.fit(X, y)\n",
    "\n",
    "# clfviz(rf, X.values, y,\n",
    "#              markers=['X','s'],\n",
    "#              feature_names=['cg19897071', 'cg22188918'],\n",
    "#              dot_w=20)"
   ]
  }
 ],
 "metadata": {
  "kernelspec": {
   "display_name": "Python 3 (ipykernel)",
   "language": "python",
   "name": "python3"
  },
  "language_info": {
   "codemirror_mode": {
    "name": "ipython",
    "version": 3
   },
   "file_extension": ".py",
   "mimetype": "text/x-python",
   "name": "python",
   "nbconvert_exporter": "python",
   "pygments_lexer": "ipython3",
   "version": "3.9.7"
  }
 },
 "nbformat": 4,
 "nbformat_minor": 5
}
