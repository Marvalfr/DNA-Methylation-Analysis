{
 "cells": [
  {
   "cell_type": "markdown",
   "id": "a5693353-0072-45e0-81f3-85b18c37eacb",
   "metadata": {},
   "source": [
    "## Model Evaluation"
   ]
  },
  {
   "cell_type": "code",
   "execution_count": 1,
   "id": "3949296f-ade5-446a-9d44-2c1b40ff297b",
   "metadata": {},
   "outputs": [],
   "source": [
    "import pandas as pd\n",
    "import numpy as np\n",
    "import pickle\n",
    "from sklearn.tree import DecisionTreeRegressor, plot_tree\n",
    "from sklearn.ensemble import RandomForestClassifier, ExtraTreesClassifier\n",
    "from sklearn.model_selection import cross_val_score, train_test_split, GridSearchCV\n",
    "from sklearn.metrics import mean_squared_error, accuracy_score, ConfusionMatrixDisplay"
   ]
  },
  {
   "cell_type": "code",
   "execution_count": 10,
   "id": "1a9673a8-3dbf-46a8-b8fc-4e127bdef7a6",
   "metadata": {},
   "outputs": [],
   "source": [
    "#load the dataset\n",
    "with open('data/samples_imputed.pkl', 'rb') as f:\n",
    "    samples_imputed = pickle.load(f)"
   ]
  },
  {
   "cell_type": "code",
   "execution_count": 11,
   "id": "2ee4dd24-fa1c-42b3-a76a-84ef3ad5e34e",
   "metadata": {},
   "outputs": [],
   "source": [
    "# set X, y and train-test-split\n",
    "X = samples_imputed.drop(columns=['is_cancer'])\n",
    "y = samples_imputed['is_cancer']\n",
    "\n",
    "X_train, X_test, y_train, y_test = train_test_split(X, y, random_state=42)"
   ]
  },
  {
   "cell_type": "code",
   "execution_count": 12,
   "id": "73d7b464-2995-4433-b009-3a13dd4d7fb6",
   "metadata": {},
   "outputs": [],
   "source": [
    "# load the random forest model\n",
    "\n",
    "with open('models/rf2_class_model.pkl', 'rb') as f:\n",
    "    rf = pickle.load(f)"
   ]
  },
  {
   "cell_type": "code",
   "execution_count": 13,
   "id": "70fe4e1c-a066-40c5-bcec-91546e29acde",
   "metadata": {},
   "outputs": [
    {
     "data": {
      "text/plain": [
       "sklearn.ensemble._forest.RandomForestClassifier"
      ]
     },
     "execution_count": 13,
     "metadata": {},
     "output_type": "execute_result"
    }
   ],
   "source": [
    "type(rf)"
   ]
  },
  {
   "cell_type": "markdown",
   "id": "6cd259b8-ae23-4757-8665-1ca6044a76c8",
   "metadata": {},
   "source": [
    "### Plotting confusion matrixes"
   ]
  },
  {
   "cell_type": "code",
   "execution_count": 15,
   "id": "d876c8a5-2c96-4457-be19-caea58cba6c3",
   "metadata": {},
   "outputs": [
    {
     "data": {
      "image/png": "[encoded data removed]",
      "text/plain": [
       "<Figure size 432x288 with 2 Axes>"
      ]
     },
     "metadata": {
      "needs_background": "light"
     },
     "output_type": "display_data"
    }
   ],
   "source": [
    "ConfusionMatrixDisplay.from_estimator(\n",
    "    rf, \n",
    "    X_test, \n",
    "    y_test,\n",
    "    #sample_weight='balanced',\n",
    "    display_labels=['benign', 'malignant'], \n",
    "    cmap='Blues'\n",
    ");"
   ]
  }
 ],
 "metadata": {
  "kernelspec": {
   "display_name": "Python 3 (ipykernel)",
   "language": "python",
   "name": "python3"
  },
  "language_info": {
   "codemirror_mode": {
    "name": "ipython",
    "version": 3
   },
   "file_extension": ".py",
   "mimetype": "text/x-python",
   "name": "python",
   "nbconvert_exporter": "python",
   "pygments_lexer": "ipython3",
   "version": "3.9.7"
  }
 },
 "nbformat": 4,
 "nbformat_minor": 5
}
