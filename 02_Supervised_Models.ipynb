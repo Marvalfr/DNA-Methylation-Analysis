{
 "cells": [
  {
   "cell_type": "markdown",
   "id": "d0cc8041-d626-4cf6-baa7-450126854816",
   "metadata": {},
   "source": [
    "# Part 2: Supervised Models"
   ]
  },
  {
   "cell_type": "markdown",
   "id": "f5ae9852-8e34-409e-abda-3e121f06a389",
   "metadata": {
    "tags": []
   },
   "source": [
    "#### In this notebook:\n",
    "A. [Imports](#imports): Libraries & Dataset  \n",
    "\n",
    "B. [Models](#models):\n",
    "  1. [Baseline Model](#baseline)\n",
    "  2. [Logistic Regression](#logreg)\n",
    "  3. [Decision Tree](#tree)\n",
    "  4. [Random Forests](#rf)\n",
    "  5. [Extra Tree](#et)  \n",
    "\n",
    "C. [Scores Summary](#all_scores)"
   ]
  },
  {
   "cell_type": "markdown",
   "id": "2d2a0c93-53ae-4fb8-9314-78771d126d76",
   "metadata": {
    "tags": []
   },
   "source": [
    "<a id='#imports'> </a>\n",
    "## Imports"
   ]
  },
  {
   "cell_type": "code",
   "execution_count": 2,
   "id": "ee16b8dc-5ea8-4c08-a1c7-b271917990b4",
   "metadata": {},
   "outputs": [],
   "source": [
    "import os\n",
    "import os.path as op\n",
    "import pandas as pd\n",
    "import matplotlib.pyplot as plt\n",
    "import pickle\n",
    "\n",
    "from sklearn.preprocessing import StandardScaler\n",
    "from sklearn.impute import SimpleImputer\n",
    "from sklearn.linear_model import LogisticRegression\n",
    "from sklearn.tree import DecisionTreeRegressor, plot_tree\n",
    "from sklearn.ensemble import RandomForestClassifier, ExtraTreesClassifier\n",
    "from sklearn.model_selection import cross_val_score, train_test_split, GridSearchCV\n",
    "from sklearn.metrics import mean_squared_error, accuracy_score\n",
    "from sklearn.pipeline import Pipeline, make_pipeline\n",
    "\n",
    "from sklearn.datasets import make_classification\n",
    "from sklearn.experimental import enable_halving_search_cv \n",
    "from sklearn.model_selection import HalvingGridSearchCV\n",
    "\n",
    "from dtreeviz.trees import dtreeviz\n",
    "import graphviz"
   ]
  },
  {
   "cell_type": "code",
   "execution_count": 13,
   "id": "c00258ec-751b-4c0b-8f94-27945e1dfbf2",
   "metadata": {},
   "outputs": [
    {
     "data": {
      "text/plain": [
       "(734, 233656)"
      ]
     },
     "execution_count": 13,
     "metadata": {},
     "output_type": "execute_result"
    }
   ],
   "source": [
    "# Loading the dataset\n",
    "with open('data/all_samples.pkl', 'rb') as f:\n",
    "    all_samples = pickle.load(f)\n",
    "\n",
    "all_samples.shape"
   ]
  },
  {
   "cell_type": "markdown",
   "id": "34daf266-6033-4b6f-886a-60ad80af4f94",
   "metadata": {},
   "source": [
    " <a id='#models'></a>"
   ]
  },
  {
   "cell_type": "markdown",
   "id": "a3992e71-da23-4793-8396-b61bcf1a4016",
   "metadata": {},
   "source": [
    "## Models"
   ]
  },
  {
   "cell_type": "markdown",
   "id": "ff545408-1a49-4a66-8ca2-9c70f9f48613",
   "metadata": {},
   "source": [
    "### 1. Baseline Model <a id='#baseline'></a>"
   ]
  },
  {
   "cell_type": "code",
   "execution_count": 6,
   "id": "264ee94f-7c77-462a-a5b3-782efa869711",
   "metadata": {},
   "outputs": [
    {
     "data": {
      "text/plain": [
       "1    0.87\n",
       "0    0.13\n",
       "Name: is_cancer, dtype: float64"
      ]
     },
     "execution_count": 6,
     "metadata": {},
     "output_type": "execute_result"
    }
   ],
   "source": [
    "# Find the ratio of classes in the dataset\n",
    "all_samples['is_cancer'].value_counts(normalize=True).round(2)"
   ]
  },
  {
   "cell_type": "markdown",
   "id": "f6dfef8e-3279-402b-9411-0c628fc54c73",
   "metadata": {},
   "source": [
    "About 87% of the samples are malignant while 13% are benign."
   ]
  },
  {
   "cell_type": "markdown",
   "id": "47199fd7-82da-4963-b5ee-80924b7f279c",
   "metadata": {},
   "source": [
    "### 2. Logistic Regression <a id='#logreg'></a>"
   ]
  },
  {
   "cell_type": "markdown",
   "id": "8fdd06d3-651f-43af-8e13-dde7e31bed50",
   "metadata": {},
   "source": [
    "#### Set up X & y"
   ]
  },
  {
   "cell_type": "code",
   "execution_count": 7,
   "id": "251c41d8-73d9-4723-8b51-002322f12769",
   "metadata": {},
   "outputs": [],
   "source": [
    "X = all_samples.drop(columns=['is_cancer'])\n",
    "y = all_samples['is_cancer']\n",
    "\n",
    "# Train-test-split\n",
    "X_train, X_test, y_train, y_test = train_test_split(X, y, random_state=42)"
   ]
  },
  {
   "cell_type": "markdown",
   "id": "86583ed6-c6d4-4141-892c-9644db76ab00",
   "metadata": {},
   "source": [
    "Make a logistic regression model only with the 40,000 sites that has most variance:"
   ]
  },
  {
   "cell_type": "code",
   "execution_count": 196,
   "id": "f5b1eae6-2eda-47c6-9524-e61ff6f3265f",
   "metadata": {
    "tags": []
   },
   "outputs": [
    {
     "name": "stderr",
     "output_type": "stream",
     "text": [
      "C:\\Users\\Marva\\anaconda3\\lib\\site-packages\\sklearn\\linear_model\\_logistic.py:814: ConvergenceWarning: lbfgs failed to converge (status=1):\n",
      "STOP: TOTAL NO. of ITERATIONS REACHED LIMIT.\n",
      "\n",
      "Increase the number of iterations (max_iter) or scale the data as shown in:\n",
      "    https://scikit-learn.org/stable/modules/preprocessing.html\n",
      "Please also refer to the documentation for alternative solver options:\n",
      "    https://scikit-learn.org/stable/modules/linear_model.html#logistic-regression\n",
      "  n_iter_i = _check_optimize_result(\n"
     ]
    },
    {
     "data": {
      "text/plain": [
       "Pipeline(steps=[('standardscaler', StandardScaler()),\n",
       "                ('logisticregression', LogisticRegression())])"
      ]
     },
     "execution_count": 196,
     "metadata": {},
     "output_type": "execute_result"
    }
   ],
   "source": [
    "# Create a pipeline: instantiate th model and scale the date\n",
    "pipe = make_pipeline(StandardScaler(), LogisticRegression())\n",
    "\n",
    "# apply scaling on training data\n",
    "pipe.fit(X_train, y_train) \n",
    "\n",
    "Pipeline(steps=[('standardscaler', StandardScaler()),\n",
    "                ('logisticregression', LogisticRegression())])"
   ]
  },
  {
   "cell_type": "code",
   "execution_count": 197,
   "id": "7f412481-6006-4d02-80bf-a3094a82deb3",
   "metadata": {},
   "outputs": [
    {
     "data": {
      "text/plain": [
       "0.8369565217391305"
      ]
     },
     "execution_count": 197,
     "metadata": {},
     "output_type": "execute_result"
    }
   ],
   "source": [
    "# Score the test set\n",
    "pipe.score(X_test, y_test)"
   ]
  },
  {
   "cell_type": "markdown",
   "id": "92293588-60a5-4d4f-a474-74fad5b430bd",
   "metadata": {},
   "source": []
  },
  {
   "cell_type": "markdown",
   "id": "0a7687fc-e072-4a94-a543-8bdfe9320b2e",
   "metadata": {
    "tags": []
   },
   "source": [
    "### 3. A Decision Tree Model <a id='#tree'></a>"
   ]
  },
  {
   "cell_type": "code",
   "execution_count": 9,
   "id": "f9abe162-e731-4638-8af4-8c14a945d05a",
   "metadata": {},
   "outputs": [
    {
     "data": {
      "text/plain": [
       "(1.0, 0.7125)"
      ]
     },
     "execution_count": 9,
     "metadata": {},
     "output_type": "execute_result"
    }
   ],
   "source": [
    "# instantiate the dacision tree model\n",
    "tree = DecisionTreeRegressor(random_state=1, max_depth=3)\n",
    "\n",
    "# fitting\n",
    "tree.fit(X_train, y_train)\n",
    "\n",
    "# evaluate\n",
    "tree.score(X_train, y_train), tree.score(X_test, y_test)"
   ]
  },
  {
   "cell_type": "markdown",
   "id": "1a369404-9064-4437-96d1-51418f3f695d",
   "metadata": {},
   "source": [
    "The model overfits on the train set, predicting the test with an accuracy of 0.7125 (worse than the baseline model).\n",
    "Meaning, the decision tree model correctly predicts malignancy or benignity in 71.25% of cases."
   ]
  },
  {
   "cell_type": "markdown",
   "id": "8c56506c-00a7-45a6-8fb2-c82eb480c5c2",
   "metadata": {},
   "source": [
    "#### Decision Tree Diagram"
   ]
  },
  {
   "cell_type": "code",
   "execution_count": 188,
   "id": "6878fede-b174-4d44-9a9e-35cab90e3b09",
   "metadata": {},
   "outputs": [
    {
     "data": {
      "image/png": "[encoded data removed]",
      "text/plain": [
       "<Figure size 1008x864 with 1 Axes>"
      ]
     },
     "metadata": {
      "needs_background": "light"
     },
     "output_type": "display_data"
    }
   ],
   "source": [
    "plt.figure(figsize=(14,12))\n",
    "plot_tree(tree, \n",
    "          feature_names=X_train.columns, \n",
    "          rounded=True,\n",
    "          class_names=['Benign', 'Malignant'],\n",
    "          filled=True)\n",
    "plt.title('Classification of Samples: Benign/Malignant', fontsize=18);"
   ]
  },
  {
   "cell_type": "markdown",
   "id": "6919e4dc-9b98-432d-a504-6382e76fcd08",
   "metadata": {},
   "source": [
    "### 4. Random Forests Models <a id='#rf'></a>"
   ]
  },
  {
   "cell_type": "markdown",
   "id": "5d232193-d4c8-4a17-8131-7da850aefbe8",
   "metadata": {},
   "source": [
    "#### 4.1 RF model without tuning the hyperparameters"
   ]
  },
  {
   "cell_type": "code",
   "execution_count": 11,
   "id": "57056068-8177-4883-8bba-49cbb5c1d623",
   "metadata": {},
   "outputs": [
    {
     "data": {
      "text/plain": [
       "0.9872727272727273"
      ]
     },
     "execution_count": 11,
     "metadata": {},
     "output_type": "execute_result"
    }
   ],
   "source": [
    "# Instantiate a random forest model\n",
    "# Using class_weight='balanced' to handle the imbalance data\n",
    "rf = RandomForestClassifier(n_estimators=100, class_weight='balanced')\n",
    "\n",
    "cross_val_score(rf, X_train, y_train, cv=5).mean()"
   ]
  },
  {
   "cell_type": "markdown",
   "id": "e5285c35-6e9a-40e6-8c90-591d1b8de165",
   "metadata": {},
   "source": [
    "#### 4.2 Tuning the RF hyperparameters with grid search"
   ]
  },
  {
   "cell_type": "code",
   "execution_count": 198,
   "id": "a3f8915b-8e37-4c33-a2e0-c5e7367dba8f",
   "metadata": {},
   "outputs": [
    {
     "name": "stdout",
     "output_type": "stream",
     "text": [
      "0.990909090909091\n"
     ]
    },
    {
     "data": {
      "text/plain": [
       "{'max_depth': None, 'n_estimators': 200}"
      ]
     },
     "execution_count": 198,
     "metadata": {},
     "output_type": "execute_result"
    }
   ],
   "source": [
    "rf_params = {                              \n",
    "    'n_estimators': [100, 150, 200],\n",
    "    'max_depth': [None, 1, 2, 3, 4, 5],\n",
    "}\n",
    "gs = GridSearchCV(rf, param_grid=rf_params, cv=5)\n",
    "\n",
    "# fitting\n",
    "gs.fit(X_train, y_train)\n",
    "\n",
    "# get best score and best params\n",
    "print(gs.best_score_)\n",
    "gs.best_params_"
   ]
  },
  {
   "cell_type": "code",
   "execution_count": 200,
   "id": "dd61c8f1-2587-42ac-9c61-2b26a8288509",
   "metadata": {},
   "outputs": [
    {
     "data": {
      "text/plain": [
       "(0.9981818181818182, 0.9836956521739131)"
      ]
     },
     "execution_count": 200,
     "metadata": {},
     "output_type": "execute_result"
    }
   ],
   "source": [
    "gs.score(X_train, y_train), gs.score(X_test, y_test)"
   ]
  },
  {
   "cell_type": "code",
   "execution_count": 12,
   "id": "4c93a86c-df92-446e-b616-897f0f743666",
   "metadata": {},
   "outputs": [
    {
     "data": {
      "text/plain": [
       "0.9963636363636363"
      ]
     },
     "execution_count": 12,
     "metadata": {},
     "output_type": "execute_result"
    }
   ],
   "source": [
    "# Building an random forest model with the best params found in the grid search:\n",
    "\n",
    "rf2 = RandomForestClassifier(n_estimators=100,\n",
    "                            max_depth=4,\n",
    "                            max_features='auto',\n",
    "                            min_samples_leaf=4,\n",
    "                            bootstrap=True,\n",
    "                            n_jobs=-1,\n",
    "                            random_state=0,\n",
    "                            class_weight='balanced' \n",
    ")\n",
    "\n",
    "# fitting\n",
    "rf2.fit(X_train, y_train)\n",
    "\n",
    "# score the rf model\n",
    "rf2.score(X_train, y_train)"
   ]
  },
  {
   "cell_type": "code",
   "execution_count": null,
   "id": "e864a11d-4f46-4925-9152-3ef0825d6bfb",
   "metadata": {},
   "outputs": [],
   "source": [
    "# interpret"
   ]
  },
  {
   "cell_type": "markdown",
   "id": "1d86113d-10f4-433c-be5e-a85e616a69ac",
   "metadata": {},
   "source": [
    "#### 4.3 Tuning the RF hyperparameters with halving grid search"
   ]
  },
  {
   "cell_type": "code",
   "execution_count": 203,
   "id": "3e94cf6c-4572-4275-900a-657fbde57b17",
   "metadata": {},
   "outputs": [
    {
     "data": {
      "text/plain": [
       "RandomForestClassifier(max_depth=5, n_estimators=24, random_state=0)"
      ]
     },
     "execution_count": 203,
     "metadata": {},
     "output_type": "execute_result"
    }
   ],
   "source": [
    "param_grid_2 = {'max_depth': [3, 5, 10],\n",
    "               'min_samples_split': [2, 5, 10]}\n",
    "base_estimator_2 = RandomForestClassifier(random_state=0)\n",
    "X_train, y_train = make_classification(n_samples=1000, random_state=0)\n",
    "sh = HalvingGridSearchCV(base_estimator_2, param_grid_2, cv=5,\n",
    "                         factor=2, resource='n_estimators',\n",
    "                         max_resources=30).fit(X_train, y_train)\n",
    "\n",
    "# retrieve the best estimator\n",
    "sh.best_estimator_"
   ]
  },
  {
   "cell_type": "code",
   "execution_count": 204,
   "id": "05de52d6-6522-4abb-a46f-221af4b1b7c5",
   "metadata": {},
   "outputs": [
    {
     "data": {
      "text/plain": [
       "0.9550000000000001"
      ]
     },
     "execution_count": 204,
     "metadata": {},
     "output_type": "execute_result"
    }
   ],
   "source": [
    "# make a random forest with the best estimator found in HalvingGridSearchCV:\n",
    "rf_sh = RandomForestClassifier(n_estimators=100,\n",
    "                            max_depth=5,\n",
    "                            max_features='auto',\n",
    "                            min_samples_leaf=4,\n",
    "                            bootstrap=True,\n",
    "                            n_jobs=-1,\n",
    "                            random_state=0,\n",
    "                            class_weight='balanced'                           \n",
    ")\n",
    "\n",
    "# fitting\n",
    "rf_sh.fit(X_train, y_train)\n",
    "\n",
    "# evaluate the rf_sh model:\n",
    "cross_val_score(rf_sh, X_train, y_train, cv=5).mean()"
   ]
  },
  {
   "cell_type": "code",
   "execution_count": 205,
   "id": "214ad915-e16a-419d-ab5a-fc3e573d03ae",
   "metadata": {},
   "outputs": [],
   "source": [
    "#interprate"
   ]
  },
  {
   "cell_type": "markdown",
   "id": "9096617e-7ed1-4ece-abf0-2f75e26b259b",
   "metadata": {},
   "source": [
    "### 5. Extra Tree Models <a id='#et'></a>"
   ]
  },
  {
   "cell_type": "markdown",
   "id": "a0124b68-e947-4e5b-b7d3-52360169712a",
   "metadata": {},
   "source": [
    "#### 5.1 ET model without tuning the hyperparameters"
   ]
  },
  {
   "cell_type": "code",
   "execution_count": 206,
   "id": "b4aa71c4-3b6b-4aab-aa67-5adc521bb47a",
   "metadata": {
    "tags": []
   },
   "outputs": [],
   "source": [
    "et = ExtraTreesClassifier(n_estimators=100, class_weight='balanced')"
   ]
  },
  {
   "cell_type": "code",
   "execution_count": 207,
   "id": "293d95e4-70b9-4bd1-9362-ff73a02c22bc",
   "metadata": {},
   "outputs": [
    {
     "data": {
      "text/plain": [
       "0.9570000000000001"
      ]
     },
     "execution_count": 207,
     "metadata": {},
     "output_type": "execute_result"
    }
   ],
   "source": [
    "cross_val_score(et, X_train, y_train, cv=5).mean()"
   ]
  },
  {
   "cell_type": "markdown",
   "id": "732d5ca2-6749-4200-a1a9-7b8950fd598f",
   "metadata": {},
   "source": [
    "#### 5.2 Tuning the ET hyperparameters grid search"
   ]
  },
  {
   "cell_type": "code",
   "execution_count": 208,
   "id": "93d6d46c-e27f-4451-9d88-1b610412544f",
   "metadata": {},
   "outputs": [
    {
     "name": "stdout",
     "output_type": "stream",
     "text": [
      "0.96\n"
     ]
    },
    {
     "data": {
      "text/plain": [
       "{'max_depth': None, 'n_estimators': 200}"
      ]
     },
     "execution_count": 208,
     "metadata": {},
     "output_type": "execute_result"
    }
   ],
   "source": [
    "et_params = {                  \n",
    "    'n_estimators': [100, 150, 200],\n",
    "    'max_depth': [None, 1, 2, 3, 4, 5],\n",
    "}\n",
    "gs_et = GridSearchCV(et, param_grid=et_params, cv=5)\n",
    "\n",
    "# fitting\n",
    "gs_et.fit(X_train, y_train)\n",
    "\n",
    "# get best score and best params\n",
    "print(gs_et.best_score_)\n",
    "gs_et.best_params_"
   ]
  },
  {
   "cell_type": "code",
   "execution_count": 212,
   "id": "c7eea80f-26b9-48ad-8116-83db30f3bd5c",
   "metadata": {},
   "outputs": [
    {
     "data": {
      "text/plain": [
       "ExtraTreesClassifier(bootstrap=True, class_weight='balanced',\n",
       "                     min_samples_leaf=6, n_estimators=200, n_jobs=-1,\n",
       "                     random_state=0)"
      ]
     },
     "execution_count": 212,
     "metadata": {},
     "output_type": "execute_result"
    }
   ],
   "source": [
    "# Building an extra-tree model with the best params found in the grid search:\n",
    "\n",
    "et2 = ExtraTreesClassifier(n_estimators=200,\n",
    "                            max_depth=None,\n",
    "                            max_features='auto',\n",
    "                            min_samples_leaf=6,\n",
    "                            bootstrap=True,\n",
    "                            n_jobs=-1,\n",
    "                            random_state=0,\n",
    "                            class_weight='balanced'\n",
    ")\n",
    "\n",
    "#fitting\n",
    "et2.fit(X_train, y_train)"
   ]
  },
  {
   "cell_type": "code",
   "execution_count": 214,
   "id": "e8b4ca11-bcc3-4595-9a47-b4ac6a6b8f2f",
   "metadata": {},
   "outputs": [
    {
     "data": {
      "text/plain": [
       "0.95"
      ]
     },
     "execution_count": 214,
     "metadata": {},
     "output_type": "execute_result"
    }
   ],
   "source": [
    "cross_val_score(et2, X_train, y_train, cv=5).mean()"
   ]
  },
  {
   "cell_type": "markdown",
   "id": "f1e8610f-6a16-4183-88d3-1bb548791ddd",
   "metadata": {},
   "source": [
    "#### 5.3 Tuning the ET hyperparameters halving grid search"
   ]
  },
  {
   "cell_type": "code",
   "execution_count": 215,
   "id": "b53986f0-1a1e-4dd5-a02e-7bd868afdf83",
   "metadata": {},
   "outputs": [
    {
     "data": {
      "text/plain": [
       "ExtraTreesClassifier(max_depth=10, min_samples_split=5, n_estimators=24,\n",
       "                     random_state=0)"
      ]
     },
     "execution_count": 215,
     "metadata": {},
     "output_type": "execute_result"
    }
   ],
   "source": [
    "# Use HalvingGridSearchCV to find the best hyperparams\n",
    "param_grid_3 = {'max_depth': [3, 5, 10],\n",
    "               'min_samples_split': [2, 5, 10]}\n",
    "\n",
    "base_estimator_3 = ExtraTreesClassifier(random_state=0)\n",
    "\n",
    "X_train, y_train = make_classification(n_samples=1000, random_state=0)\n",
    "\n",
    "sh2 = HalvingGridSearchCV(base_estimator_3, param_grid_3, cv=5,\n",
    "                         factor=2, resource='n_estimators',\n",
    "                         max_resources=30).fit(X_train, y_train)\n",
    "\n",
    "# retrieve the best estimator\n",
    "sh2.best_estimator_"
   ]
  },
  {
   "cell_type": "code",
   "execution_count": 211,
   "id": "42be5dc9-2a12-4ca3-9dab-076400c527c2",
   "metadata": {},
   "outputs": [
    {
     "data": {
      "text/plain": [
       "0.9469999999999998"
      ]
     },
     "execution_count": 211,
     "metadata": {},
     "output_type": "execute_result"
    }
   ],
   "source": [
    "# make an extra tree model with the best estimator found in HalvingGridSearchCV:\n",
    "et_sh2 = ExtraTreesClassifier(n_estimators=100,\n",
    "                            max_depth=10,\n",
    "                            max_features='auto',\n",
    "                            min_samples_leaf=5,\n",
    "                            bootstrap=True,\n",
    "                            n_jobs=-1,\n",
    "                            random_state=0,\n",
    "                            class_weight='balanced'                           \n",
    ")\n",
    "et_sh2.fit(X_train, y_train)\n",
    "\n",
    "# evaluating the rf_sh model:\n",
    "cross_val_score(et_sh2, X_train, y_train, cv=5).mean()"
   ]
  },
  {
   "cell_type": "markdown",
   "id": "a054c97e-213b-40fa-9833-87406f8e0d66",
   "metadata": {},
   "source": [
    "### Saving the best scored models as pickle files"
   ]
  },
  {
   "cell_type": "code",
   "execution_count": 218,
   "id": "2b88f4e5-b252-4774-b59e-08d2f6a76812",
   "metadata": {},
   "outputs": [],
   "source": [
    "with open('models/et_class_model.pkl', 'wb') as f:\n",
    "    pickle.dump(et2, f)"
   ]
  },
  {
   "cell_type": "code",
   "execution_count": 219,
   "id": "eccd4958-d69e-4434-a52e-981aa18d2085",
   "metadata": {},
   "outputs": [],
   "source": [
    "with open('models/rf2_class_model.pkl', 'wb') as f:\n",
    "    pickle.dump(rf2, f)     # gs???"
   ]
  },
  {
   "cell_type": "markdown",
   "id": "9ad0b0b8-9411-4e02-ac2b-bd2fa6294a8c",
   "metadata": {},
   "source": [
    "## Accuracy Scores Summary <a id='#all_scores'></a>"
   ]
  },
  {
   "cell_type": "markdown",
   "id": "827e2114-571e-4e7e-b616-6e894a7a6e55",
   "metadata": {},
   "source": [
    "|     Model type     | Hyper Parameters Search |  Accuracy Score  |   \n",
    "|--------------------|-------------------------|------------------|  \n",
    "| Baseline Model | None | 0.870\n",
    "|Decision Tree       |None                     |0.712           |\n",
    "|Random Forest|None|0.987|  \n",
    "|Random Forest|GridSearchCV|0.987|\n",
    "|Random Forest|HalvingGridSearchCV|0.955|  \n",
    "|Extra Tree|None|0.957|  \n",
    "|Extra Tree|GridSearchCV|0.989|  \n",
    "|Extra Tree|HalvingGridSearchCV|0.945|\n",
    "\n"
   ]
  },
  {
   "cell_type": "markdown",
   "id": "afbcfad4-9252-4ecc-b5a6-e8e0e24dea42",
   "metadata": {
    "tags": []
   },
   "source": [
    "The Random Forest and Extra Tree models performed similarly with an accuracy score of nearly 0.99 after tuning the hyper parameters with grid search.  \n",
    "All models except the Decision Tree beat the baseline model."
   ]
  }
 ],
 "metadata": {
  "kernelspec": {
   "display_name": "Python 3 (ipykernel)",
   "language": "python",
   "name": "python3"
  },
  "language_info": {
   "codemirror_mode": {
    "name": "ipython",
    "version": 3
   },
   "file_extension": ".py",
   "mimetype": "text/x-python",
   "name": "python",
   "nbconvert_exporter": "python",
   "pygments_lexer": "ipython3",
   "version": "3.9.7"
  }
 },
 "nbformat": 4,
 "nbformat_minor": 5
}
