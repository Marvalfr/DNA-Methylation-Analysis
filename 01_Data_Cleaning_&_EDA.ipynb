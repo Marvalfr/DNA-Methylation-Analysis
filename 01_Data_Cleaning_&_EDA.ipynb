{
 "cells": [
  {
   "cell_type": "code",
   "execution_count": 2,
   "id": "2fe0d431-e82f-40af-acf2-db66dfcffcb9",
   "metadata": {},
   "outputs": [],
   "source": [
    "import os\n",
    "import os.path as op\n",
    "import pandas as pd\n",
    "from sklearn.impute import SimpleImputer\n",
    "import pickle"
   ]
  },
  {
   "cell_type": "markdown",
   "id": "3429967a-635f-49c8-a915-a33d20a0e491",
   "metadata": {},
   "source": [
    "### Normal Tissues Dataset"
   ]
  },
  {
   "cell_type": "code",
   "execution_count": 3,
   "id": "97405c1d-4871-4773-a221-0b9a5ee3c8be",
   "metadata": {},
   "outputs": [],
   "source": [
    "normal_table = 'data/breast_normal.csv.gz'\n",
    "if not op.isfile(normal_table):\n",
    "    print('WARNING: file does not exist!')\n",
    "\n",
    "df_normal = pd.read_csv(normal_table)"
   ]
  },
  {
   "cell_type": "code",
   "execution_count": 4,
   "id": "49ce3bbf-8aa0-45c6-a6e5-9e429d45facd",
   "metadata": {},
   "outputs": [
    {
     "name": "stdout",
     "output_type": "stream",
     "text": [
      "loaded table of size (423669, 95)\n"
     ]
    },
    {
     "data": {
      "text/html": [
       "<div>\n",
       "<style scoped>\n",
       "    .dataframe tbody tr th:only-of-type {\n",
       "        vertical-align: middle;\n",
       "    }\n",
       "\n",
       "    .dataframe tbody tr th {\n",
       "        vertical-align: top;\n",
       "    }\n",
       "\n",
       "    .dataframe thead th {\n",
       "        text-align: right;\n",
       "    }\n",
       "</style>\n",
       "<table border=\"1\" class=\"dataframe\">\n",
       "  <thead>\n",
       "    <tr style=\"text-align: right;\">\n",
       "      <th></th>\n",
       "      <th>site</th>\n",
       "      <th>6005486025_R04C01</th>\n",
       "      <th>6005486025_R02C01</th>\n",
       "      <th>6005486025_R03C01</th>\n",
       "      <th>6005486025_R01C01</th>\n",
       "      <th>6005486011_R03C01</th>\n",
       "      <th>6005486011_R04C01</th>\n",
       "      <th>6005486011_R01C02</th>\n",
       "      <th>6005486011_R06C01</th>\n",
       "      <th>6005486011_R05C02</th>\n",
       "      <th>...</th>\n",
       "      <th>6042324006_R05C02</th>\n",
       "      <th>6057833134_R03C02</th>\n",
       "      <th>6057833134_R04C02</th>\n",
       "      <th>6057833159_R05C02</th>\n",
       "      <th>6057833166_R01C01</th>\n",
       "      <th>6057833166_R03C01</th>\n",
       "      <th>6285633051_R02C01</th>\n",
       "      <th>6057833155_R06C02</th>\n",
       "      <th>6057833101_R02C01</th>\n",
       "      <th>6057833101_R06C02</th>\n",
       "    </tr>\n",
       "  </thead>\n",
       "  <tbody>\n",
       "    <tr>\n",
       "      <th>0</th>\n",
       "      <td>cg20367788</td>\n",
       "      <td>0.79</td>\n",
       "      <td>0.79</td>\n",
       "      <td>0.79</td>\n",
       "      <td>0.76</td>\n",
       "      <td>0.81</td>\n",
       "      <td>0.83</td>\n",
       "      <td>0.77</td>\n",
       "      <td>0.83</td>\n",
       "      <td>0.81</td>\n",
       "      <td>...</td>\n",
       "      <td>0.82</td>\n",
       "      <td>0.75</td>\n",
       "      <td>0.73</td>\n",
       "      <td>0.72</td>\n",
       "      <td>0.67</td>\n",
       "      <td>0.64</td>\n",
       "      <td>0.82</td>\n",
       "      <td>0.76</td>\n",
       "      <td>0.73</td>\n",
       "      <td>0.77</td>\n",
       "    </tr>\n",
       "    <tr>\n",
       "      <th>1</th>\n",
       "      <td>cg01847620</td>\n",
       "      <td>0.99</td>\n",
       "      <td>0.99</td>\n",
       "      <td>0.99</td>\n",
       "      <td>0.98</td>\n",
       "      <td>1.00</td>\n",
       "      <td>1.00</td>\n",
       "      <td>0.99</td>\n",
       "      <td>0.99</td>\n",
       "      <td>0.99</td>\n",
       "      <td>...</td>\n",
       "      <td>0.98</td>\n",
       "      <td>0.99</td>\n",
       "      <td>0.99</td>\n",
       "      <td>0.99</td>\n",
       "      <td>0.98</td>\n",
       "      <td>0.98</td>\n",
       "      <td>0.99</td>\n",
       "      <td>0.99</td>\n",
       "      <td>0.98</td>\n",
       "      <td>0.99</td>\n",
       "    </tr>\n",
       "    <tr>\n",
       "      <th>2</th>\n",
       "      <td>cg08450501</td>\n",
       "      <td>0.04</td>\n",
       "      <td>0.03</td>\n",
       "      <td>0.04</td>\n",
       "      <td>0.04</td>\n",
       "      <td>0.04</td>\n",
       "      <td>0.06</td>\n",
       "      <td>0.04</td>\n",
       "      <td>0.03</td>\n",
       "      <td>0.05</td>\n",
       "      <td>...</td>\n",
       "      <td>0.04</td>\n",
       "      <td>0.05</td>\n",
       "      <td>0.09</td>\n",
       "      <td>0.07</td>\n",
       "      <td>0.07</td>\n",
       "      <td>0.07</td>\n",
       "      <td>0.06</td>\n",
       "      <td>0.06</td>\n",
       "      <td>0.05</td>\n",
       "      <td>0.07</td>\n",
       "    </tr>\n",
       "    <tr>\n",
       "      <th>3</th>\n",
       "      <td>cg06848514</td>\n",
       "      <td>0.02</td>\n",
       "      <td>0.06</td>\n",
       "      <td>0.03</td>\n",
       "      <td>0.02</td>\n",
       "      <td>0.01</td>\n",
       "      <td>0.02</td>\n",
       "      <td>0.01</td>\n",
       "      <td>0.02</td>\n",
       "      <td>0.02</td>\n",
       "      <td>...</td>\n",
       "      <td>0.00</td>\n",
       "      <td>0.00</td>\n",
       "      <td>0.00</td>\n",
       "      <td>0.04</td>\n",
       "      <td>0.05</td>\n",
       "      <td>0.06</td>\n",
       "      <td>0.00</td>\n",
       "      <td>0.02</td>\n",
       "      <td>0.00</td>\n",
       "      <td>0.03</td>\n",
       "    </tr>\n",
       "    <tr>\n",
       "      <th>4</th>\n",
       "      <td>cg16045340</td>\n",
       "      <td>0.86</td>\n",
       "      <td>0.84</td>\n",
       "      <td>0.77</td>\n",
       "      <td>0.82</td>\n",
       "      <td>0.90</td>\n",
       "      <td>0.85</td>\n",
       "      <td>0.88</td>\n",
       "      <td>0.85</td>\n",
       "      <td>0.86</td>\n",
       "      <td>...</td>\n",
       "      <td>0.84</td>\n",
       "      <td>0.80</td>\n",
       "      <td>0.86</td>\n",
       "      <td>0.83</td>\n",
       "      <td>0.81</td>\n",
       "      <td>0.74</td>\n",
       "      <td>0.92</td>\n",
       "      <td>0.87</td>\n",
       "      <td>0.81</td>\n",
       "      <td>0.89</td>\n",
       "    </tr>\n",
       "  </tbody>\n",
       "</table>\n",
       "<p>5 rows × 95 columns</p>\n",
       "</div>"
      ],
      "text/plain": [
       "         site  6005486025_R04C01  6005486025_R02C01  6005486025_R03C01  \\\n",
       "0  cg20367788               0.79               0.79               0.79   \n",
       "1  cg01847620               0.99               0.99               0.99   \n",
       "2  cg08450501               0.04               0.03               0.04   \n",
       "3  cg06848514               0.02               0.06               0.03   \n",
       "4  cg16045340               0.86               0.84               0.77   \n",
       "\n",
       "   6005486025_R01C01  6005486011_R03C01  6005486011_R04C01  6005486011_R01C02  \\\n",
       "0               0.76               0.81               0.83               0.77   \n",
       "1               0.98               1.00               1.00               0.99   \n",
       "2               0.04               0.04               0.06               0.04   \n",
       "3               0.02               0.01               0.02               0.01   \n",
       "4               0.82               0.90               0.85               0.88   \n",
       "\n",
       "   6005486011_R06C01  6005486011_R05C02  ...  6042324006_R05C02  \\\n",
       "0               0.83               0.81  ...               0.82   \n",
       "1               0.99               0.99  ...               0.98   \n",
       "2               0.03               0.05  ...               0.04   \n",
       "3               0.02               0.02  ...               0.00   \n",
       "4               0.85               0.86  ...               0.84   \n",
       "\n",
       "   6057833134_R03C02  6057833134_R04C02  6057833159_R05C02  6057833166_R01C01  \\\n",
       "0               0.75               0.73               0.72               0.67   \n",
       "1               0.99               0.99               0.99               0.98   \n",
       "2               0.05               0.09               0.07               0.07   \n",
       "3               0.00               0.00               0.04               0.05   \n",
       "4               0.80               0.86               0.83               0.81   \n",
       "\n",
       "   6057833166_R03C01  6285633051_R02C01  6057833155_R06C02  6057833101_R02C01  \\\n",
       "0               0.64               0.82               0.76               0.73   \n",
       "1               0.98               0.99               0.99               0.98   \n",
       "2               0.07               0.06               0.06               0.05   \n",
       "3               0.06               0.00               0.02               0.00   \n",
       "4               0.74               0.92               0.87               0.81   \n",
       "\n",
       "   6057833101_R06C02  \n",
       "0               0.77  \n",
       "1               0.99  \n",
       "2               0.07  \n",
       "3               0.03  \n",
       "4               0.89  \n",
       "\n",
       "[5 rows x 95 columns]"
      ]
     },
     "execution_count": 4,
     "metadata": {},
     "output_type": "execute_result"
    }
   ],
   "source": [
    "df_normal.columns = ['site'] + list(df_normal.columns)[1:]\n",
    "print('loaded table of size', df_normal.shape)\n",
    "df_normal.head()"
   ]
  },
  {
   "cell_type": "code",
   "execution_count": 4,
   "id": "5c18c847-4b1c-4dde-86a8-681be1cc1758",
   "metadata": {},
   "outputs": [
    {
     "data": {
      "text/plain": [
       "0         0.79\n",
       "1         0.99\n",
       "2         0.04\n",
       "3         0.02\n",
       "4         0.86\n",
       "          ... \n",
       "423664    0.74\n",
       "423665    0.57\n",
       "423666    0.04\n",
       "423667    0.09\n",
       "423668    0.23\n",
       "Name: 6005486025_R04C01, Length: 423669, dtype: float64"
      ]
     },
     "execution_count": 4,
     "metadata": {},
     "output_type": "execute_result"
    }
   ],
   "source": [
    "df_normal['6005486025_R04C01']"
   ]
  },
  {
   "cell_type": "code",
   "execution_count": 5,
   "id": "6402b1a9-797d-40a9-b106-e5958e42a140",
   "metadata": {},
   "outputs": [
    {
     "data": {
      "text/plain": [
       "<AxesSubplot:>"
      ]
     },
     "execution_count": 5,
     "metadata": {},
     "output_type": "execute_result"
    },
    {
     "data": {
      "image/png": "[encoded data removed]",
      "text/plain": [
       "<Figure size 432x288 with 1 Axes>"
      ]
     },
     "metadata": {
      "needs_background": "light"
     },
     "output_type": "display_data"
    }
   ],
   "source": [
    "df_normal.isna().sum(axis=1).hist(bins=50)"
   ]
  },
  {
   "cell_type": "code",
   "execution_count": 6,
   "id": "a3bd6f27-d97d-4f43-b4e8-5f2b609e757d",
   "metadata": {},
   "outputs": [
    {
     "data": {
      "text/plain": [
       "<AxesSubplot:>"
      ]
     },
     "execution_count": 6,
     "metadata": {},
     "output_type": "execute_result"
    },
    {
     "data": {
      "image/png": "[encoded data removed]",
      "text/plain": [
       "<Figure size 432x288 with 1 Axes>"
      ]
     },
     "metadata": {
      "needs_background": "light"
     },
     "output_type": "display_data"
    }
   ],
   "source": [
    "df_normal.isna().sum(axis=0).hist(bins=10)"
   ]
  },
  {
   "cell_type": "code",
   "execution_count": 7,
   "id": "2bada13b-d118-4877-a716-d1a62d492c92",
   "metadata": {},
   "outputs": [
    {
     "data": {
      "text/plain": [
       "167684"
      ]
     },
     "execution_count": 7,
     "metadata": {},
     "output_type": "execute_result"
    }
   ],
   "source": [
    "df_normal.isna().sum().sum()"
   ]
  },
  {
   "cell_type": "markdown",
   "id": "1c520fd3-780c-42bb-860e-b4a3e4e2bfde",
   "metadata": {},
   "source": [
    "#### Binarize the classifier by adding a column 'is_cancer': 0 for normal tissue, 1 for cancer"
   ]
  },
  {
   "cell_type": "code",
   "execution_count": 8,
   "id": "4703719b-6c5d-4cdf-909f-0bcb875d3a23",
   "metadata": {},
   "outputs": [],
   "source": [
    "#transpose the table as preprocessing for binarization:\n",
    "df_normal = df_normal.set_index('site')\n",
    "df_normal = df_normal.transpose()"
   ]
  },
  {
   "cell_type": "code",
   "execution_count": 9,
   "id": "4ace1e35-ef65-4bf5-a398-c45248aeef8c",
   "metadata": {},
   "outputs": [
    {
     "data": {
      "text/html": [
       "<div>\n",
       "<style scoped>\n",
       "    .dataframe tbody tr th:only-of-type {\n",
       "        vertical-align: middle;\n",
       "    }\n",
       "\n",
       "    .dataframe tbody tr th {\n",
       "        vertical-align: top;\n",
       "    }\n",
       "\n",
       "    .dataframe thead th {\n",
       "        text-align: right;\n",
       "    }\n",
       "</style>\n",
       "<table border=\"1\" class=\"dataframe\">\n",
       "  <thead>\n",
       "    <tr style=\"text-align: right;\">\n",
       "      <th>site</th>\n",
       "      <th>cg20367788</th>\n",
       "      <th>cg01847620</th>\n",
       "      <th>cg08450501</th>\n",
       "      <th>cg06848514</th>\n",
       "      <th>cg16045340</th>\n",
       "      <th>cg08036346</th>\n",
       "      <th>cg26702958</th>\n",
       "      <th>cg26361646</th>\n",
       "      <th>cg21774865</th>\n",
       "      <th>cg12465710</th>\n",
       "      <th>...</th>\n",
       "      <th>cg15545692</th>\n",
       "      <th>cg08989942</th>\n",
       "      <th>cg18293633</th>\n",
       "      <th>cg24076348</th>\n",
       "      <th>cg17754680</th>\n",
       "      <th>cg09460231</th>\n",
       "      <th>cg22502319</th>\n",
       "      <th>cg02078370</th>\n",
       "      <th>cg18105767</th>\n",
       "      <th>is_cancer</th>\n",
       "    </tr>\n",
       "  </thead>\n",
       "  <tbody>\n",
       "    <tr>\n",
       "      <th>6005486025_R04C01</th>\n",
       "      <td>0.79</td>\n",
       "      <td>0.99</td>\n",
       "      <td>0.04</td>\n",
       "      <td>0.02</td>\n",
       "      <td>0.86</td>\n",
       "      <td>0.98</td>\n",
       "      <td>0.12</td>\n",
       "      <td>0.0</td>\n",
       "      <td>0.96</td>\n",
       "      <td>0.23</td>\n",
       "      <td>...</td>\n",
       "      <td>0.77</td>\n",
       "      <td>0.78</td>\n",
       "      <td>0.50</td>\n",
       "      <td>0.81</td>\n",
       "      <td>0.74</td>\n",
       "      <td>0.57</td>\n",
       "      <td>0.04</td>\n",
       "      <td>0.09</td>\n",
       "      <td>0.23</td>\n",
       "      <td>0</td>\n",
       "    </tr>\n",
       "    <tr>\n",
       "      <th>6005486025_R02C01</th>\n",
       "      <td>0.79</td>\n",
       "      <td>0.99</td>\n",
       "      <td>0.03</td>\n",
       "      <td>0.06</td>\n",
       "      <td>0.84</td>\n",
       "      <td>0.98</td>\n",
       "      <td>0.06</td>\n",
       "      <td>0.0</td>\n",
       "      <td>0.98</td>\n",
       "      <td>0.17</td>\n",
       "      <td>...</td>\n",
       "      <td>0.82</td>\n",
       "      <td>0.82</td>\n",
       "      <td>0.57</td>\n",
       "      <td>0.78</td>\n",
       "      <td>0.77</td>\n",
       "      <td>0.49</td>\n",
       "      <td>0.04</td>\n",
       "      <td>0.06</td>\n",
       "      <td>0.32</td>\n",
       "      <td>0</td>\n",
       "    </tr>\n",
       "  </tbody>\n",
       "</table>\n",
       "<p>2 rows × 423670 columns</p>\n",
       "</div>"
      ],
      "text/plain": [
       "site               cg20367788  cg01847620  cg08450501  cg06848514  cg16045340  \\\n",
       "6005486025_R04C01        0.79        0.99        0.04        0.02        0.86   \n",
       "6005486025_R02C01        0.79        0.99        0.03        0.06        0.84   \n",
       "\n",
       "site               cg08036346  cg26702958  cg26361646  cg21774865  cg12465710  \\\n",
       "6005486025_R04C01        0.98        0.12         0.0        0.96        0.23   \n",
       "6005486025_R02C01        0.98        0.06         0.0        0.98        0.17   \n",
       "\n",
       "site               ...  cg15545692  cg08989942  cg18293633  cg24076348  \\\n",
       "6005486025_R04C01  ...        0.77        0.78        0.50        0.81   \n",
       "6005486025_R02C01  ...        0.82        0.82        0.57        0.78   \n",
       "\n",
       "site               cg17754680  cg09460231  cg22502319  cg02078370  cg18105767  \\\n",
       "6005486025_R04C01        0.74        0.57        0.04        0.09        0.23   \n",
       "6005486025_R02C01        0.77        0.49        0.04        0.06        0.32   \n",
       "\n",
       "site               is_cancer  \n",
       "6005486025_R04C01          0  \n",
       "6005486025_R02C01          0  \n",
       "\n",
       "[2 rows x 423670 columns]"
      ]
     },
     "execution_count": 9,
     "metadata": {},
     "output_type": "execute_result"
    }
   ],
   "source": [
    "df_normal['is_cancer'] = 0\n",
    "df_normal.head(2)"
   ]
  },
  {
   "cell_type": "markdown",
   "id": "fe9ce277-f4f6-4e65-ab8b-5f0f60e93801",
   "metadata": {},
   "source": [
    "### Cancer Dataset"
   ]
  },
  {
   "cell_type": "code",
   "execution_count": 5,
   "id": "0c98876b-c394-4c08-9bc1-d5d5597635aa",
   "metadata": {},
   "outputs": [],
   "source": [
    "cancer_table = 'data/breast_cancer.csv.gz'\n",
    "if not op.isfile(cancer_table):\n",
    "    print('WARNING: file does not exist!')\n",
    "\n",
    "df_cancer = pd.read_csv(cancer_table)"
   ]
  },
  {
   "cell_type": "code",
   "execution_count": 6,
   "id": "c218af03-3607-4223-8ccd-613bb2df001a",
   "metadata": {},
   "outputs": [
    {
     "name": "stdout",
     "output_type": "stream",
     "text": [
      "loaded table of size (423669, 641)\n"
     ]
    },
    {
     "data": {
      "text/html": [
       "<div>\n",
       "<style scoped>\n",
       "    .dataframe tbody tr th:only-of-type {\n",
       "        vertical-align: middle;\n",
       "    }\n",
       "\n",
       "    .dataframe tbody tr th {\n",
       "        vertical-align: top;\n",
       "    }\n",
       "\n",
       "    .dataframe thead th {\n",
       "        text-align: right;\n",
       "    }\n",
       "</style>\n",
       "<table border=\"1\" class=\"dataframe\">\n",
       "  <thead>\n",
       "    <tr style=\"text-align: right;\">\n",
       "      <th></th>\n",
       "      <th>site</th>\n",
       "      <th>6005486021_R01C01</th>\n",
       "      <th>6005486021_R02C01</th>\n",
       "      <th>6005486021_R03C01</th>\n",
       "      <th>6005486021_R04C01</th>\n",
       "      <th>6005486021_R05C01</th>\n",
       "      <th>6005486021_R01C02</th>\n",
       "      <th>6005486021_R02C02</th>\n",
       "      <th>6005486021_R03C02</th>\n",
       "      <th>6005486021_R05C02</th>\n",
       "      <th>...</th>\n",
       "      <th>6285633072_R06C01</th>\n",
       "      <th>6285633072_R01C02</th>\n",
       "      <th>6285633072_R04C02</th>\n",
       "      <th>6285633072_R03C02</th>\n",
       "      <th>6285633072_R05C02</th>\n",
       "      <th>7786923102_R06C02</th>\n",
       "      <th>7796806109_R01C01</th>\n",
       "      <th>7796806109_R05C01</th>\n",
       "      <th>7796806109_R06C01</th>\n",
       "      <th>7796806109_R02C01</th>\n",
       "    </tr>\n",
       "  </thead>\n",
       "  <tbody>\n",
       "    <tr>\n",
       "      <th>0</th>\n",
       "      <td>cg20367788</td>\n",
       "      <td>0.70</td>\n",
       "      <td>0.74</td>\n",
       "      <td>0.80</td>\n",
       "      <td>0.78</td>\n",
       "      <td>0.76</td>\n",
       "      <td>0.72</td>\n",
       "      <td>0.75</td>\n",
       "      <td>0.75</td>\n",
       "      <td>0.77</td>\n",
       "      <td>...</td>\n",
       "      <td>0.81</td>\n",
       "      <td>0.74</td>\n",
       "      <td>0.75</td>\n",
       "      <td>0.79</td>\n",
       "      <td>0.78</td>\n",
       "      <td>0.76</td>\n",
       "      <td>0.73</td>\n",
       "      <td>0.76</td>\n",
       "      <td>0.70</td>\n",
       "      <td>0.68</td>\n",
       "    </tr>\n",
       "    <tr>\n",
       "      <th>1</th>\n",
       "      <td>cg01847620</td>\n",
       "      <td>0.99</td>\n",
       "      <td>0.99</td>\n",
       "      <td>0.99</td>\n",
       "      <td>0.99</td>\n",
       "      <td>1.00</td>\n",
       "      <td>0.99</td>\n",
       "      <td>0.99</td>\n",
       "      <td>0.99</td>\n",
       "      <td>0.99</td>\n",
       "      <td>...</td>\n",
       "      <td>0.99</td>\n",
       "      <td>0.99</td>\n",
       "      <td>0.99</td>\n",
       "      <td>0.98</td>\n",
       "      <td>0.99</td>\n",
       "      <td>0.99</td>\n",
       "      <td>0.99</td>\n",
       "      <td>0.99</td>\n",
       "      <td>0.98</td>\n",
       "      <td>0.99</td>\n",
       "    </tr>\n",
       "    <tr>\n",
       "      <th>2</th>\n",
       "      <td>cg08450501</td>\n",
       "      <td>0.04</td>\n",
       "      <td>0.05</td>\n",
       "      <td>0.05</td>\n",
       "      <td>0.04</td>\n",
       "      <td>0.05</td>\n",
       "      <td>0.04</td>\n",
       "      <td>0.05</td>\n",
       "      <td>0.04</td>\n",
       "      <td>0.03</td>\n",
       "      <td>...</td>\n",
       "      <td>0.04</td>\n",
       "      <td>0.05</td>\n",
       "      <td>0.06</td>\n",
       "      <td>0.06</td>\n",
       "      <td>0.05</td>\n",
       "      <td>0.07</td>\n",
       "      <td>0.09</td>\n",
       "      <td>0.06</td>\n",
       "      <td>0.07</td>\n",
       "      <td>0.08</td>\n",
       "    </tr>\n",
       "    <tr>\n",
       "      <th>3</th>\n",
       "      <td>cg06848514</td>\n",
       "      <td>0.04</td>\n",
       "      <td>0.01</td>\n",
       "      <td>0.02</td>\n",
       "      <td>0.02</td>\n",
       "      <td>0.00</td>\n",
       "      <td>0.04</td>\n",
       "      <td>0.01</td>\n",
       "      <td>0.04</td>\n",
       "      <td>0.03</td>\n",
       "      <td>...</td>\n",
       "      <td>0.04</td>\n",
       "      <td>0.02</td>\n",
       "      <td>0.04</td>\n",
       "      <td>0.03</td>\n",
       "      <td>0.04</td>\n",
       "      <td>0.03</td>\n",
       "      <td>0.02</td>\n",
       "      <td>0.02</td>\n",
       "      <td>0.05</td>\n",
       "      <td>0.02</td>\n",
       "    </tr>\n",
       "    <tr>\n",
       "      <th>4</th>\n",
       "      <td>cg16045340</td>\n",
       "      <td>0.65</td>\n",
       "      <td>0.73</td>\n",
       "      <td>0.82</td>\n",
       "      <td>0.88</td>\n",
       "      <td>0.64</td>\n",
       "      <td>0.76</td>\n",
       "      <td>0.80</td>\n",
       "      <td>0.71</td>\n",
       "      <td>0.82</td>\n",
       "      <td>...</td>\n",
       "      <td>0.90</td>\n",
       "      <td>0.86</td>\n",
       "      <td>0.89</td>\n",
       "      <td>0.88</td>\n",
       "      <td>0.88</td>\n",
       "      <td>0.85</td>\n",
       "      <td>0.82</td>\n",
       "      <td>0.86</td>\n",
       "      <td>0.73</td>\n",
       "      <td>0.81</td>\n",
       "    </tr>\n",
       "  </tbody>\n",
       "</table>\n",
       "<p>5 rows × 641 columns</p>\n",
       "</div>"
      ],
      "text/plain": [
       "         site  6005486021_R01C01  6005486021_R02C01  6005486021_R03C01  \\\n",
       "0  cg20367788               0.70               0.74               0.80   \n",
       "1  cg01847620               0.99               0.99               0.99   \n",
       "2  cg08450501               0.04               0.05               0.05   \n",
       "3  cg06848514               0.04               0.01               0.02   \n",
       "4  cg16045340               0.65               0.73               0.82   \n",
       "\n",
       "   6005486021_R04C01  6005486021_R05C01  6005486021_R01C02  6005486021_R02C02  \\\n",
       "0               0.78               0.76               0.72               0.75   \n",
       "1               0.99               1.00               0.99               0.99   \n",
       "2               0.04               0.05               0.04               0.05   \n",
       "3               0.02               0.00               0.04               0.01   \n",
       "4               0.88               0.64               0.76               0.80   \n",
       "\n",
       "   6005486021_R03C02  6005486021_R05C02  ...  6285633072_R06C01  \\\n",
       "0               0.75               0.77  ...               0.81   \n",
       "1               0.99               0.99  ...               0.99   \n",
       "2               0.04               0.03  ...               0.04   \n",
       "3               0.04               0.03  ...               0.04   \n",
       "4               0.71               0.82  ...               0.90   \n",
       "\n",
       "   6285633072_R01C02  6285633072_R04C02  6285633072_R03C02  6285633072_R05C02  \\\n",
       "0               0.74               0.75               0.79               0.78   \n",
       "1               0.99               0.99               0.98               0.99   \n",
       "2               0.05               0.06               0.06               0.05   \n",
       "3               0.02               0.04               0.03               0.04   \n",
       "4               0.86               0.89               0.88               0.88   \n",
       "\n",
       "   7786923102_R06C02  7796806109_R01C01  7796806109_R05C01  7796806109_R06C01  \\\n",
       "0               0.76               0.73               0.76               0.70   \n",
       "1               0.99               0.99               0.99               0.98   \n",
       "2               0.07               0.09               0.06               0.07   \n",
       "3               0.03               0.02               0.02               0.05   \n",
       "4               0.85               0.82               0.86               0.73   \n",
       "\n",
       "   7796806109_R02C01  \n",
       "0               0.68  \n",
       "1               0.99  \n",
       "2               0.08  \n",
       "3               0.02  \n",
       "4               0.81  \n",
       "\n",
       "[5 rows x 641 columns]"
      ]
     },
     "execution_count": 6,
     "metadata": {},
     "output_type": "execute_result"
    }
   ],
   "source": [
    "df_cancer.columns = ['site'] + list(df_cancer.columns)[1:]\n",
    "print('loaded table of size', df_cancer.shape)\n",
    "df_cancer.head()"
   ]
  },
  {
   "cell_type": "code",
   "execution_count": 12,
   "id": "31b875e1-a26d-4290-839f-c714fded3374",
   "metadata": {},
   "outputs": [
    {
     "data": {
      "text/plain": [
       "<AxesSubplot:>"
      ]
     },
     "execution_count": 12,
     "metadata": {},
     "output_type": "execute_result"
    },
    {
     "data": {
      "image/png": "[encoded data removed]",
      "text/plain": [
       "<Figure size 432x288 with 1 Axes>"
      ]
     },
     "metadata": {
      "needs_background": "light"
     },
     "output_type": "display_data"
    }
   ],
   "source": [
    "df_cancer.isna().sum(axis=1).hist(bins=50)"
   ]
  },
  {
   "cell_type": "code",
   "execution_count": 13,
   "id": "3b023b39-c30f-4830-a3aa-6e23550b199a",
   "metadata": {},
   "outputs": [
    {
     "data": {
      "text/plain": [
       "<AxesSubplot:>"
      ]
     },
     "execution_count": 13,
     "metadata": {},
     "output_type": "execute_result"
    },
    {
     "data": {
      "image/png": "[encoded data removed]",
      "text/plain": [
       "<Figure size 432x288 with 1 Axes>"
      ]
     },
     "metadata": {
      "needs_background": "light"
     },
     "output_type": "display_data"
    }
   ],
   "source": [
    "df_cancer.isna().sum(axis=0).hist(bins=50)"
   ]
  },
  {
   "cell_type": "code",
   "execution_count": 14,
   "id": "06d0b098-c957-44e4-af51-2987308e3178",
   "metadata": {},
   "outputs": [
    {
     "data": {
      "text/plain": [
       "1108417"
      ]
     },
     "execution_count": 14,
     "metadata": {},
     "output_type": "execute_result"
    }
   ],
   "source": [
    "df_cancer.isna().sum().sum()"
   ]
  },
  {
   "cell_type": "markdown",
   "id": "da319a6d-df6e-4945-bf77-462654850ec5",
   "metadata": {},
   "source": [
    "#### Binarize the classifier by adding a column 'is_cancer': 0 for normal tissue, 1 for cancer"
   ]
  },
  {
   "cell_type": "code",
   "execution_count": 15,
   "id": "d9075b81-4e70-4f03-80be-ca03ac3bb802",
   "metadata": {},
   "outputs": [],
   "source": [
    "#transpose the table as preprocessing for binarization:\n",
    "df_cancer = df_cancer.set_index('site')\n",
    "df_cancer = df_cancer.transpose()"
   ]
  },
  {
   "cell_type": "code",
   "execution_count": 16,
   "id": "7a3591c0-0da4-409a-b819-4d1204b130f1",
   "metadata": {},
   "outputs": [
    {
     "data": {
      "text/plain": [
       "array([1], dtype=int64)"
      ]
     },
     "execution_count": 16,
     "metadata": {},
     "output_type": "execute_result"
    }
   ],
   "source": [
    "df_cancer['is_cancer'] = 1\n",
    "df_cancer['is_cancer'].unique()"
   ]
  },
  {
   "cell_type": "markdown",
   "id": "c9fc5be7-77b2-4446-b8e9-239eae89a731",
   "metadata": {},
   "source": [
    "### Merge the Datasets (cancer, normal) into one:"
   ]
  },
  {
   "cell_type": "code",
   "execution_count": 17,
   "id": "21e2534b-33d8-4843-b76a-ae406aeac9dd",
   "metadata": {},
   "outputs": [
    {
     "data": {
      "text/html": [
       "<div>\n",
       "<style scoped>\n",
       "    .dataframe tbody tr th:only-of-type {\n",
       "        vertical-align: middle;\n",
       "    }\n",
       "\n",
       "    .dataframe tbody tr th {\n",
       "        vertical-align: top;\n",
       "    }\n",
       "\n",
       "    .dataframe thead th {\n",
       "        text-align: right;\n",
       "    }\n",
       "</style>\n",
       "<table border=\"1\" class=\"dataframe\">\n",
       "  <thead>\n",
       "    <tr style=\"text-align: right;\">\n",
       "      <th>site</th>\n",
       "      <th>cg20367788</th>\n",
       "      <th>cg01847620</th>\n",
       "      <th>cg08450501</th>\n",
       "      <th>cg06848514</th>\n",
       "      <th>cg16045340</th>\n",
       "      <th>cg08036346</th>\n",
       "      <th>cg26702958</th>\n",
       "      <th>cg26361646</th>\n",
       "      <th>cg21774865</th>\n",
       "      <th>cg12465710</th>\n",
       "      <th>...</th>\n",
       "      <th>cg15545692</th>\n",
       "      <th>cg08989942</th>\n",
       "      <th>cg18293633</th>\n",
       "      <th>cg24076348</th>\n",
       "      <th>cg17754680</th>\n",
       "      <th>cg09460231</th>\n",
       "      <th>cg22502319</th>\n",
       "      <th>cg02078370</th>\n",
       "      <th>cg18105767</th>\n",
       "      <th>is_cancer</th>\n",
       "    </tr>\n",
       "  </thead>\n",
       "  <tbody>\n",
       "    <tr>\n",
       "      <th>6005486021_R01C01</th>\n",
       "      <td>0.70</td>\n",
       "      <td>0.99</td>\n",
       "      <td>0.04</td>\n",
       "      <td>0.04</td>\n",
       "      <td>0.65</td>\n",
       "      <td>0.99</td>\n",
       "      <td>0.10</td>\n",
       "      <td>0.00</td>\n",
       "      <td>0.85</td>\n",
       "      <td>0.46</td>\n",
       "      <td>...</td>\n",
       "      <td>0.82</td>\n",
       "      <td>0.51</td>\n",
       "      <td>0.83</td>\n",
       "      <td>0.52</td>\n",
       "      <td>0.70</td>\n",
       "      <td>0.25</td>\n",
       "      <td>0.04</td>\n",
       "      <td>0.06</td>\n",
       "      <td>0.03</td>\n",
       "      <td>1</td>\n",
       "    </tr>\n",
       "    <tr>\n",
       "      <th>6005486021_R02C01</th>\n",
       "      <td>0.74</td>\n",
       "      <td>0.99</td>\n",
       "      <td>0.05</td>\n",
       "      <td>0.01</td>\n",
       "      <td>0.73</td>\n",
       "      <td>0.99</td>\n",
       "      <td>0.52</td>\n",
       "      <td>0.01</td>\n",
       "      <td>0.98</td>\n",
       "      <td>0.80</td>\n",
       "      <td>...</td>\n",
       "      <td>0.83</td>\n",
       "      <td>0.78</td>\n",
       "      <td>0.83</td>\n",
       "      <td>0.83</td>\n",
       "      <td>0.80</td>\n",
       "      <td>0.51</td>\n",
       "      <td>0.03</td>\n",
       "      <td>0.05</td>\n",
       "      <td>0.16</td>\n",
       "      <td>1</td>\n",
       "    </tr>\n",
       "    <tr>\n",
       "      <th>6005486021_R03C01</th>\n",
       "      <td>0.80</td>\n",
       "      <td>0.99</td>\n",
       "      <td>0.05</td>\n",
       "      <td>0.02</td>\n",
       "      <td>0.82</td>\n",
       "      <td>0.99</td>\n",
       "      <td>0.49</td>\n",
       "      <td>0.00</td>\n",
       "      <td>0.98</td>\n",
       "      <td>0.62</td>\n",
       "      <td>...</td>\n",
       "      <td>0.82</td>\n",
       "      <td>0.75</td>\n",
       "      <td>0.77</td>\n",
       "      <td>0.52</td>\n",
       "      <td>0.78</td>\n",
       "      <td>0.36</td>\n",
       "      <td>0.04</td>\n",
       "      <td>0.05</td>\n",
       "      <td>0.32</td>\n",
       "      <td>1</td>\n",
       "    </tr>\n",
       "    <tr>\n",
       "      <th>6005486021_R04C01</th>\n",
       "      <td>0.78</td>\n",
       "      <td>0.99</td>\n",
       "      <td>0.04</td>\n",
       "      <td>0.02</td>\n",
       "      <td>0.88</td>\n",
       "      <td>0.99</td>\n",
       "      <td>0.46</td>\n",
       "      <td>0.00</td>\n",
       "      <td>0.99</td>\n",
       "      <td>0.66</td>\n",
       "      <td>...</td>\n",
       "      <td>0.88</td>\n",
       "      <td>0.87</td>\n",
       "      <td>0.85</td>\n",
       "      <td>0.56</td>\n",
       "      <td>0.84</td>\n",
       "      <td>0.78</td>\n",
       "      <td>0.04</td>\n",
       "      <td>0.06</td>\n",
       "      <td>0.28</td>\n",
       "      <td>1</td>\n",
       "    </tr>\n",
       "    <tr>\n",
       "      <th>6005486021_R05C01</th>\n",
       "      <td>0.76</td>\n",
       "      <td>1.00</td>\n",
       "      <td>0.05</td>\n",
       "      <td>0.00</td>\n",
       "      <td>0.64</td>\n",
       "      <td>0.99</td>\n",
       "      <td>0.67</td>\n",
       "      <td>0.11</td>\n",
       "      <td>0.98</td>\n",
       "      <td>0.68</td>\n",
       "      <td>...</td>\n",
       "      <td>0.86</td>\n",
       "      <td>0.67</td>\n",
       "      <td>0.81</td>\n",
       "      <td>0.86</td>\n",
       "      <td>0.85</td>\n",
       "      <td>0.57</td>\n",
       "      <td>0.04</td>\n",
       "      <td>0.05</td>\n",
       "      <td>0.38</td>\n",
       "      <td>1</td>\n",
       "    </tr>\n",
       "  </tbody>\n",
       "</table>\n",
       "<p>5 rows × 423670 columns</p>\n",
       "</div>"
      ],
      "text/plain": [
       "site               cg20367788  cg01847620  cg08450501  cg06848514  cg16045340  \\\n",
       "6005486021_R01C01        0.70        0.99        0.04        0.04        0.65   \n",
       "6005486021_R02C01        0.74        0.99        0.05        0.01        0.73   \n",
       "6005486021_R03C01        0.80        0.99        0.05        0.02        0.82   \n",
       "6005486021_R04C01        0.78        0.99        0.04        0.02        0.88   \n",
       "6005486021_R05C01        0.76        1.00        0.05        0.00        0.64   \n",
       "\n",
       "site               cg08036346  cg26702958  cg26361646  cg21774865  cg12465710  \\\n",
       "6005486021_R01C01        0.99        0.10        0.00        0.85        0.46   \n",
       "6005486021_R02C01        0.99        0.52        0.01        0.98        0.80   \n",
       "6005486021_R03C01        0.99        0.49        0.00        0.98        0.62   \n",
       "6005486021_R04C01        0.99        0.46        0.00        0.99        0.66   \n",
       "6005486021_R05C01        0.99        0.67        0.11        0.98        0.68   \n",
       "\n",
       "site               ...  cg15545692  cg08989942  cg18293633  cg24076348  \\\n",
       "6005486021_R01C01  ...        0.82        0.51        0.83        0.52   \n",
       "6005486021_R02C01  ...        0.83        0.78        0.83        0.83   \n",
       "6005486021_R03C01  ...        0.82        0.75        0.77        0.52   \n",
       "6005486021_R04C01  ...        0.88        0.87        0.85        0.56   \n",
       "6005486021_R05C01  ...        0.86        0.67        0.81        0.86   \n",
       "\n",
       "site               cg17754680  cg09460231  cg22502319  cg02078370  cg18105767  \\\n",
       "6005486021_R01C01        0.70        0.25        0.04        0.06        0.03   \n",
       "6005486021_R02C01        0.80        0.51        0.03        0.05        0.16   \n",
       "6005486021_R03C01        0.78        0.36        0.04        0.05        0.32   \n",
       "6005486021_R04C01        0.84        0.78        0.04        0.06        0.28   \n",
       "6005486021_R05C01        0.85        0.57        0.04        0.05        0.38   \n",
       "\n",
       "site               is_cancer  \n",
       "6005486021_R01C01          1  \n",
       "6005486021_R02C01          1  \n",
       "6005486021_R03C01          1  \n",
       "6005486021_R04C01          1  \n",
       "6005486021_R05C01          1  \n",
       "\n",
       "[5 rows x 423670 columns]"
      ]
     },
     "execution_count": 17,
     "metadata": {},
     "output_type": "execute_result"
    }
   ],
   "source": [
    "all_samples = pd.concat([df_cancer, df_normal])\n",
    "all_samples.head()"
   ]
  },
  {
   "cell_type": "code",
   "execution_count": 18,
   "id": "93920e52-dae6-4102-9a33-e702b7e39f69",
   "metadata": {},
   "outputs": [
    {
     "data": {
      "text/plain": [
       "(734, 423670)"
      ]
     },
     "execution_count": 18,
     "metadata": {},
     "output_type": "execute_result"
    }
   ],
   "source": [
    "all_samples.shape"
   ]
  },
  {
   "cell_type": "code",
   "execution_count": 19,
   "id": "0e841a28-f703-4d5a-be97-d9c8456b06b9",
   "metadata": {},
   "outputs": [
    {
     "data": {
      "text/plain": [
       "1    640\n",
       "0     94\n",
       "Name: is_cancer, dtype: int64"
      ]
     },
     "execution_count": 19,
     "metadata": {},
     "output_type": "execute_result"
    }
   ],
   "source": [
    "all_samples['is_cancer'].value_counts() # In the merged df there are 640 samples from tumors and 94 samples from healthy tissues."
   ]
  },
  {
   "cell_type": "code",
   "execution_count": 20,
   "id": "fe3e2e8a-2516-4735-912d-3b4496310f0b",
   "metadata": {},
   "outputs": [
    {
     "data": {
      "text/plain": [
       "<AxesSubplot:>"
      ]
     },
     "execution_count": 20,
     "metadata": {},
     "output_type": "execute_result"
    },
    {
     "data": {
      "image/png": "[encoded data removed]",
      "text/plain": [
       "<Figure size 432x288 with 1 Axes>"
      ]
     },
     "metadata": {
      "needs_background": "light"
     },
     "output_type": "display_data"
    }
   ],
   "source": [
    "all_samples.isna().sum(axis=0).hist(bins=50)"
   ]
  },
  {
   "cell_type": "code",
   "execution_count": 21,
   "id": "2c4d46a2-a36d-40b1-84d7-0f4d1cc5865e",
   "metadata": {},
   "outputs": [
    {
     "data": {
      "text/plain": [
       "<AxesSubplot:>"
      ]
     },
     "execution_count": 21,
     "metadata": {},
     "output_type": "execute_result"
    },
    {
     "data": {
      "image/png": "[encoded data removed]",
      "text/plain": [
       "<Figure size 432x288 with 1 Axes>"
      ]
     },
     "metadata": {
      "needs_background": "light"
     },
     "output_type": "display_data"
    }
   ],
   "source": [
    "all_samples.isna().sum(axis=1).hist(bins=50)"
   ]
  },
  {
   "cell_type": "code",
   "execution_count": 22,
   "id": "3bb42625-1445-4620-895e-fcf1df6ab403",
   "metadata": {},
   "outputs": [
    {
     "data": {
      "text/plain": [
       "1276101"
      ]
     },
     "execution_count": 22,
     "metadata": {},
     "output_type": "execute_result"
    }
   ],
   "source": [
    "all_samples.isna().sum().sum()"
   ]
  },
  {
   "cell_type": "markdown",
   "id": "9f3f2562-7697-4353-b03f-0f01c87a3b6a",
   "metadata": {},
   "source": [
    "#### Drop Nulls"
   ]
  },
  {
   "cell_type": "code",
   "execution_count": 23,
   "id": "418e8ebc-d03d-4247-b6cf-2d249a038b9b",
   "metadata": {},
   "outputs": [],
   "source": [
    "all_samples.dropna(axis=1, inplace=True)"
   ]
  },
  {
   "cell_type": "code",
   "execution_count": 24,
   "id": "48b41413-d2e9-4d3c-ac4a-c1c8bd895200",
   "metadata": {},
   "outputs": [
    {
     "data": {
      "text/plain": [
       "0"
      ]
     },
     "execution_count": 24,
     "metadata": {},
     "output_type": "execute_result"
    }
   ],
   "source": [
    "all_samples.isna().sum().sum()"
   ]
  },
  {
   "cell_type": "code",
   "execution_count": 25,
   "id": "b06a7e7f-6e43-49ba-8024-26c891a45b92",
   "metadata": {},
   "outputs": [
    {
     "data": {
      "text/plain": [
       "(734, 233656)"
      ]
     },
     "execution_count": 25,
     "metadata": {},
     "output_type": "execute_result"
    }
   ],
   "source": [
    "all_samples.shape"
   ]
  },
  {
   "cell_type": "markdown",
   "id": "5c8aaf54-837c-49e3-9d43-5069195aa42c",
   "metadata": {},
   "source": [
    "### Pickle the merged, nulls-free DF"
   ]
  },
  {
   "cell_type": "code",
   "execution_count": 27,
   "id": "52851a53-3972-4d25-863a-8e80eca1b865",
   "metadata": {},
   "outputs": [],
   "source": [
    "with open('all_samples.pkl', 'wb') as f:\n",
    "    pickle.dump(all_samples, f)"
   ]
  }
 ],
 "metadata": {
  "kernelspec": {
   "display_name": "Python 3 (ipykernel)",
   "language": "python",
   "name": "python3"
  },
  "language_info": {
   "codemirror_mode": {
    "name": "ipython",
    "version": 3
   },
   "file_extension": ".py",
   "mimetype": "text/x-python",
   "name": "python",
   "nbconvert_exporter": "python",
   "pygments_lexer": "ipython3",
   "version": "3.9.7"
  }
 },
 "nbformat": 4,
 "nbformat_minor": 5
}
